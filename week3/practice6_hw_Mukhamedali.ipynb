{
  "cells": [
    {
      "cell_type": "code",
      "source": [],
      "metadata": {
        "id": "MZ81pafFKUcU"
      },
      "execution_count": null,
      "outputs": []
    },
    {
      "cell_type": "code",
      "execution_count": 1,
      "metadata": {
        "id": "haahIh_UnjxL"
      },
      "outputs": [],
      "source": [
        "import pandas as pd\n",
        "import numpy as np\n",
        "from tqdm import tqdm_notebook"
      ]
    },
    {
      "cell_type": "code",
      "source": [
        "import kagglehub\n",
        "\n",
        "# Download latest version\n",
        "path = kagglehub.dataset_download(\"yutkin/corpus-of-russian-news-articles-from-lenta\")\n",
        "\n",
        "print(\"Path to dataset files:\", path)"
      ],
      "metadata": {
        "colab": {
          "base_uri": "https://localhost:8080/"
        },
        "id": "Uqyc5vbueOWm",
        "outputId": "bd3c6a01-552e-4362-9397-b607afec0e54"
      },
      "execution_count": 2,
      "outputs": [
        {
          "output_type": "stream",
          "name": "stdout",
          "text": [
            "Downloading from https://www.kaggle.com/api/v1/datasets/download/yutkin/corpus-of-russian-news-articles-from-lenta?dataset_version_number=2...\n"
          ]
        },
        {
          "output_type": "stream",
          "name": "stderr",
          "text": [
            "100%|██████████| 584M/584M [00:06<00:00, 91.8MB/s]"
          ]
        },
        {
          "output_type": "stream",
          "name": "stdout",
          "text": [
            "Extracting files...\n"
          ]
        },
        {
          "output_type": "stream",
          "name": "stderr",
          "text": [
            "\n"
          ]
        },
        {
          "output_type": "stream",
          "name": "stdout",
          "text": [
            "Path to dataset files: /root/.cache/kagglehub/datasets/yutkin/corpus-of-russian-news-articles-from-lenta/versions/2\n"
          ]
        }
      ]
    },
    {
      "cell_type": "code",
      "source": [
        "import os"
      ],
      "metadata": {
        "id": "LniL3_c7eeA-"
      },
      "execution_count": 3,
      "outputs": []
    },
    {
      "cell_type": "code",
      "source": [
        "os.listdir(path)"
      ],
      "metadata": {
        "colab": {
          "base_uri": "https://localhost:8080/"
        },
        "id": "_HqU4M4kfDEu",
        "outputId": "19db560c-96c5-4e22-8dc4-ad4e7477b4aa"
      },
      "execution_count": 6,
      "outputs": [
        {
          "output_type": "execute_result",
          "data": {
            "text/plain": [
              "['lenta-ru-news.csv']"
            ]
          },
          "metadata": {},
          "execution_count": 6
        }
      ]
    },
    {
      "cell_type": "code",
      "source": [
        "data_path = os.path.join(path, 'lenta-ru-news.csv')\n",
        "data_path"
      ],
      "metadata": {
        "colab": {
          "base_uri": "https://localhost:8080/",
          "height": 73
        },
        "id": "okitjX16Ey-l",
        "outputId": "44a772ea-8fce-437c-8c88-1fff978389e8"
      },
      "execution_count": 8,
      "outputs": [
        {
          "output_type": "execute_result",
          "data": {
            "text/plain": [
              "'/root/.cache/kagglehub/datasets/yutkin/corpus-of-russian-news-articles-from-lenta/versions/2/lenta-ru-news.csv'"
            ],
            "application/vnd.google.colaboratory.intrinsic+json": {
              "type": "string"
            }
          },
          "metadata": {},
          "execution_count": 8
        }
      ]
    },
    {
      "cell_type": "code",
      "execution_count": 9,
      "metadata": {
        "id": "N64b0MbrnjxN",
        "outputId": "3e868375-2c5b-4043-e5f6-84ac5f62324a",
        "colab": {
          "base_uri": "https://localhost:8080/",
          "height": 585
        }
      },
      "outputs": [
        {
          "output_type": "stream",
          "name": "stderr",
          "text": [
            "/tmp/ipython-input-3578774663.py:1: DtypeWarning: Columns (3) have mixed types. Specify dtype option on import or set low_memory=False.\n",
            "  ds = pd.read_csv(data_path)\n"
          ]
        },
        {
          "output_type": "execute_result",
          "data": {
            "text/plain": [
              "                                           url  \\\n",
              "0   https://lenta.ru/news/1914/09/16/hungarnn/   \n",
              "1  https://lenta.ru/news/1914/09/16/lermontov/   \n",
              "2  https://lenta.ru/news/1914/09/17/nesteroff/   \n",
              "3   https://lenta.ru/news/1914/09/17/bulldogn/   \n",
              "4       https://lenta.ru/news/1914/09/18/zver/   \n",
              "\n",
              "                                               title  \\\n",
              "0  1914. Русские войска вступили в пределы Венгрии     \n",
              "1  1914. Празднование столетия М.Ю. Лермонтова от...   \n",
              "2                           1914. Das ist Nesteroff!   \n",
              "3                    1914. Бульдог-гонец под Льежем    \n",
              "4           1914. Под Люблином пойман швабский зверь   \n",
              "\n",
              "                                                text       topic  \\\n",
              "0  Бои у Сопоцкина и Друскеник закончились отступ...  Библиотека   \n",
              "1  Министерство народного просвещения, в виду про...  Библиотека   \n",
              "2  Штабс-капитан П. Н. Нестеров на днях, увидев в...  Библиотека   \n",
              "3  Фотограф-корреспондент Daily Mirror рассказыва...  Библиотека   \n",
              "4  Лица, приехавшие в Варшаву из Люблина, передаю...  Библиотека   \n",
              "\n",
              "             tags        date  \n",
              "0  Первая мировая  1914/09/16  \n",
              "1  Первая мировая  1914/09/16  \n",
              "2  Первая мировая  1914/09/17  \n",
              "3  Первая мировая  1914/09/17  \n",
              "4  Первая мировая  1914/09/18  "
            ],
            "text/html": [
              "\n",
              "  <div id=\"df-5aa42277-c67c-4793-87b4-0233c0897958\" class=\"colab-df-container\">\n",
              "    <div>\n",
              "<style scoped>\n",
              "    .dataframe tbody tr th:only-of-type {\n",
              "        vertical-align: middle;\n",
              "    }\n",
              "\n",
              "    .dataframe tbody tr th {\n",
              "        vertical-align: top;\n",
              "    }\n",
              "\n",
              "    .dataframe thead th {\n",
              "        text-align: right;\n",
              "    }\n",
              "</style>\n",
              "<table border=\"1\" class=\"dataframe\">\n",
              "  <thead>\n",
              "    <tr style=\"text-align: right;\">\n",
              "      <th></th>\n",
              "      <th>url</th>\n",
              "      <th>title</th>\n",
              "      <th>text</th>\n",
              "      <th>topic</th>\n",
              "      <th>tags</th>\n",
              "      <th>date</th>\n",
              "    </tr>\n",
              "  </thead>\n",
              "  <tbody>\n",
              "    <tr>\n",
              "      <th>0</th>\n",
              "      <td>https://lenta.ru/news/1914/09/16/hungarnn/</td>\n",
              "      <td>1914. Русские войска вступили в пределы Венгрии</td>\n",
              "      <td>Бои у Сопоцкина и Друскеник закончились отступ...</td>\n",
              "      <td>Библиотека</td>\n",
              "      <td>Первая мировая</td>\n",
              "      <td>1914/09/16</td>\n",
              "    </tr>\n",
              "    <tr>\n",
              "      <th>1</th>\n",
              "      <td>https://lenta.ru/news/1914/09/16/lermontov/</td>\n",
              "      <td>1914. Празднование столетия М.Ю. Лермонтова от...</td>\n",
              "      <td>Министерство народного просвещения, в виду про...</td>\n",
              "      <td>Библиотека</td>\n",
              "      <td>Первая мировая</td>\n",
              "      <td>1914/09/16</td>\n",
              "    </tr>\n",
              "    <tr>\n",
              "      <th>2</th>\n",
              "      <td>https://lenta.ru/news/1914/09/17/nesteroff/</td>\n",
              "      <td>1914. Das ist Nesteroff!</td>\n",
              "      <td>Штабс-капитан П. Н. Нестеров на днях, увидев в...</td>\n",
              "      <td>Библиотека</td>\n",
              "      <td>Первая мировая</td>\n",
              "      <td>1914/09/17</td>\n",
              "    </tr>\n",
              "    <tr>\n",
              "      <th>3</th>\n",
              "      <td>https://lenta.ru/news/1914/09/17/bulldogn/</td>\n",
              "      <td>1914. Бульдог-гонец под Льежем</td>\n",
              "      <td>Фотограф-корреспондент Daily Mirror рассказыва...</td>\n",
              "      <td>Библиотека</td>\n",
              "      <td>Первая мировая</td>\n",
              "      <td>1914/09/17</td>\n",
              "    </tr>\n",
              "    <tr>\n",
              "      <th>4</th>\n",
              "      <td>https://lenta.ru/news/1914/09/18/zver/</td>\n",
              "      <td>1914. Под Люблином пойман швабский зверь</td>\n",
              "      <td>Лица, приехавшие в Варшаву из Люблина, передаю...</td>\n",
              "      <td>Библиотека</td>\n",
              "      <td>Первая мировая</td>\n",
              "      <td>1914/09/18</td>\n",
              "    </tr>\n",
              "  </tbody>\n",
              "</table>\n",
              "</div>\n",
              "    <div class=\"colab-df-buttons\">\n",
              "\n",
              "  <div class=\"colab-df-container\">\n",
              "    <button class=\"colab-df-convert\" onclick=\"convertToInteractive('df-5aa42277-c67c-4793-87b4-0233c0897958')\"\n",
              "            title=\"Convert this dataframe to an interactive table.\"\n",
              "            style=\"display:none;\">\n",
              "\n",
              "  <svg xmlns=\"http://www.w3.org/2000/svg\" height=\"24px\" viewBox=\"0 -960 960 960\">\n",
              "    <path d=\"M120-120v-720h720v720H120Zm60-500h600v-160H180v160Zm220 220h160v-160H400v160Zm0 220h160v-160H400v160ZM180-400h160v-160H180v160Zm440 0h160v-160H620v160ZM180-180h160v-160H180v160Zm440 0h160v-160H620v160Z\"/>\n",
              "  </svg>\n",
              "    </button>\n",
              "\n",
              "  <style>\n",
              "    .colab-df-container {\n",
              "      display:flex;\n",
              "      gap: 12px;\n",
              "    }\n",
              "\n",
              "    .colab-df-convert {\n",
              "      background-color: #E8F0FE;\n",
              "      border: none;\n",
              "      border-radius: 50%;\n",
              "      cursor: pointer;\n",
              "      display: none;\n",
              "      fill: #1967D2;\n",
              "      height: 32px;\n",
              "      padding: 0 0 0 0;\n",
              "      width: 32px;\n",
              "    }\n",
              "\n",
              "    .colab-df-convert:hover {\n",
              "      background-color: #E2EBFA;\n",
              "      box-shadow: 0px 1px 2px rgba(60, 64, 67, 0.3), 0px 1px 3px 1px rgba(60, 64, 67, 0.15);\n",
              "      fill: #174EA6;\n",
              "    }\n",
              "\n",
              "    .colab-df-buttons div {\n",
              "      margin-bottom: 4px;\n",
              "    }\n",
              "\n",
              "    [theme=dark] .colab-df-convert {\n",
              "      background-color: #3B4455;\n",
              "      fill: #D2E3FC;\n",
              "    }\n",
              "\n",
              "    [theme=dark] .colab-df-convert:hover {\n",
              "      background-color: #434B5C;\n",
              "      box-shadow: 0px 1px 3px 1px rgba(0, 0, 0, 0.15);\n",
              "      filter: drop-shadow(0px 1px 2px rgba(0, 0, 0, 0.3));\n",
              "      fill: #FFFFFF;\n",
              "    }\n",
              "  </style>\n",
              "\n",
              "    <script>\n",
              "      const buttonEl =\n",
              "        document.querySelector('#df-5aa42277-c67c-4793-87b4-0233c0897958 button.colab-df-convert');\n",
              "      buttonEl.style.display =\n",
              "        google.colab.kernel.accessAllowed ? 'block' : 'none';\n",
              "\n",
              "      async function convertToInteractive(key) {\n",
              "        const element = document.querySelector('#df-5aa42277-c67c-4793-87b4-0233c0897958');\n",
              "        const dataTable =\n",
              "          await google.colab.kernel.invokeFunction('convertToInteractive',\n",
              "                                                    [key], {});\n",
              "        if (!dataTable) return;\n",
              "\n",
              "        const docLinkHtml = 'Like what you see? Visit the ' +\n",
              "          '<a target=\"_blank\" href=https://colab.research.google.com/notebooks/data_table.ipynb>data table notebook</a>'\n",
              "          + ' to learn more about interactive tables.';\n",
              "        element.innerHTML = '';\n",
              "        dataTable['output_type'] = 'display_data';\n",
              "        await google.colab.output.renderOutput(dataTable, element);\n",
              "        const docLink = document.createElement('div');\n",
              "        docLink.innerHTML = docLinkHtml;\n",
              "        element.appendChild(docLink);\n",
              "      }\n",
              "    </script>\n",
              "  </div>\n",
              "\n",
              "\n",
              "    <div id=\"df-f126f70d-cd1b-42aa-8599-08aa6e103fe3\">\n",
              "      <button class=\"colab-df-quickchart\" onclick=\"quickchart('df-f126f70d-cd1b-42aa-8599-08aa6e103fe3')\"\n",
              "                title=\"Suggest charts\"\n",
              "                style=\"display:none;\">\n",
              "\n",
              "<svg xmlns=\"http://www.w3.org/2000/svg\" height=\"24px\"viewBox=\"0 0 24 24\"\n",
              "     width=\"24px\">\n",
              "    <g>\n",
              "        <path d=\"M19 3H5c-1.1 0-2 .9-2 2v14c0 1.1.9 2 2 2h14c1.1 0 2-.9 2-2V5c0-1.1-.9-2-2-2zM9 17H7v-7h2v7zm4 0h-2V7h2v10zm4 0h-2v-4h2v4z\"/>\n",
              "    </g>\n",
              "</svg>\n",
              "      </button>\n",
              "\n",
              "<style>\n",
              "  .colab-df-quickchart {\n",
              "      --bg-color: #E8F0FE;\n",
              "      --fill-color: #1967D2;\n",
              "      --hover-bg-color: #E2EBFA;\n",
              "      --hover-fill-color: #174EA6;\n",
              "      --disabled-fill-color: #AAA;\n",
              "      --disabled-bg-color: #DDD;\n",
              "  }\n",
              "\n",
              "  [theme=dark] .colab-df-quickchart {\n",
              "      --bg-color: #3B4455;\n",
              "      --fill-color: #D2E3FC;\n",
              "      --hover-bg-color: #434B5C;\n",
              "      --hover-fill-color: #FFFFFF;\n",
              "      --disabled-bg-color: #3B4455;\n",
              "      --disabled-fill-color: #666;\n",
              "  }\n",
              "\n",
              "  .colab-df-quickchart {\n",
              "    background-color: var(--bg-color);\n",
              "    border: none;\n",
              "    border-radius: 50%;\n",
              "    cursor: pointer;\n",
              "    display: none;\n",
              "    fill: var(--fill-color);\n",
              "    height: 32px;\n",
              "    padding: 0;\n",
              "    width: 32px;\n",
              "  }\n",
              "\n",
              "  .colab-df-quickchart:hover {\n",
              "    background-color: var(--hover-bg-color);\n",
              "    box-shadow: 0 1px 2px rgba(60, 64, 67, 0.3), 0 1px 3px 1px rgba(60, 64, 67, 0.15);\n",
              "    fill: var(--button-hover-fill-color);\n",
              "  }\n",
              "\n",
              "  .colab-df-quickchart-complete:disabled,\n",
              "  .colab-df-quickchart-complete:disabled:hover {\n",
              "    background-color: var(--disabled-bg-color);\n",
              "    fill: var(--disabled-fill-color);\n",
              "    box-shadow: none;\n",
              "  }\n",
              "\n",
              "  .colab-df-spinner {\n",
              "    border: 2px solid var(--fill-color);\n",
              "    border-color: transparent;\n",
              "    border-bottom-color: var(--fill-color);\n",
              "    animation:\n",
              "      spin 1s steps(1) infinite;\n",
              "  }\n",
              "\n",
              "  @keyframes spin {\n",
              "    0% {\n",
              "      border-color: transparent;\n",
              "      border-bottom-color: var(--fill-color);\n",
              "      border-left-color: var(--fill-color);\n",
              "    }\n",
              "    20% {\n",
              "      border-color: transparent;\n",
              "      border-left-color: var(--fill-color);\n",
              "      border-top-color: var(--fill-color);\n",
              "    }\n",
              "    30% {\n",
              "      border-color: transparent;\n",
              "      border-left-color: var(--fill-color);\n",
              "      border-top-color: var(--fill-color);\n",
              "      border-right-color: var(--fill-color);\n",
              "    }\n",
              "    40% {\n",
              "      border-color: transparent;\n",
              "      border-right-color: var(--fill-color);\n",
              "      border-top-color: var(--fill-color);\n",
              "    }\n",
              "    60% {\n",
              "      border-color: transparent;\n",
              "      border-right-color: var(--fill-color);\n",
              "    }\n",
              "    80% {\n",
              "      border-color: transparent;\n",
              "      border-right-color: var(--fill-color);\n",
              "      border-bottom-color: var(--fill-color);\n",
              "    }\n",
              "    90% {\n",
              "      border-color: transparent;\n",
              "      border-bottom-color: var(--fill-color);\n",
              "    }\n",
              "  }\n",
              "</style>\n",
              "\n",
              "      <script>\n",
              "        async function quickchart(key) {\n",
              "          const quickchartButtonEl =\n",
              "            document.querySelector('#' + key + ' button');\n",
              "          quickchartButtonEl.disabled = true;  // To prevent multiple clicks.\n",
              "          quickchartButtonEl.classList.add('colab-df-spinner');\n",
              "          try {\n",
              "            const charts = await google.colab.kernel.invokeFunction(\n",
              "                'suggestCharts', [key], {});\n",
              "          } catch (error) {\n",
              "            console.error('Error during call to suggestCharts:', error);\n",
              "          }\n",
              "          quickchartButtonEl.classList.remove('colab-df-spinner');\n",
              "          quickchartButtonEl.classList.add('colab-df-quickchart-complete');\n",
              "        }\n",
              "        (() => {\n",
              "          let quickchartButtonEl =\n",
              "            document.querySelector('#df-f126f70d-cd1b-42aa-8599-08aa6e103fe3 button');\n",
              "          quickchartButtonEl.style.display =\n",
              "            google.colab.kernel.accessAllowed ? 'block' : 'none';\n",
              "        })();\n",
              "      </script>\n",
              "    </div>\n",
              "\n",
              "    </div>\n",
              "  </div>\n"
            ],
            "application/vnd.google.colaboratory.intrinsic+json": {
              "type": "dataframe",
              "variable_name": "ds"
            }
          },
          "metadata": {},
          "execution_count": 9
        }
      ],
      "source": [
        "ds = pd.read_csv(data_path)\n",
        "ds.head()"
      ]
    },
    {
      "cell_type": "code",
      "execution_count": 10,
      "metadata": {
        "id": "EWFfHTO3njxN",
        "outputId": "56b6976a-60a4-47b3-cfdd-87cc965f9b15",
        "colab": {
          "base_uri": "https://localhost:8080/"
        }
      },
      "outputs": [
        {
          "output_type": "execute_result",
          "data": {
            "text/plain": [
              "(800975, 6)"
            ]
          },
          "metadata": {},
          "execution_count": 10
        }
      ],
      "source": [
        "ds.shape"
      ]
    },
    {
      "cell_type": "code",
      "execution_count": 11,
      "metadata": {
        "id": "WdehmE1SnjxN",
        "outputId": "23860c13-3c23-4db4-9de8-b9888714734d",
        "colab": {
          "base_uri": "https://localhost:8080/",
          "height": 285
        }
      },
      "outputs": [
        {
          "output_type": "execute_result",
          "data": {
            "text/plain": [
              "url          0\n",
              "title        0\n",
              "text         5\n",
              "topic    62002\n",
              "tags     27219\n",
              "date         0\n",
              "dtype: int64"
            ],
            "text/html": [
              "<div>\n",
              "<style scoped>\n",
              "    .dataframe tbody tr th:only-of-type {\n",
              "        vertical-align: middle;\n",
              "    }\n",
              "\n",
              "    .dataframe tbody tr th {\n",
              "        vertical-align: top;\n",
              "    }\n",
              "\n",
              "    .dataframe thead th {\n",
              "        text-align: right;\n",
              "    }\n",
              "</style>\n",
              "<table border=\"1\" class=\"dataframe\">\n",
              "  <thead>\n",
              "    <tr style=\"text-align: right;\">\n",
              "      <th></th>\n",
              "      <th>0</th>\n",
              "    </tr>\n",
              "  </thead>\n",
              "  <tbody>\n",
              "    <tr>\n",
              "      <th>url</th>\n",
              "      <td>0</td>\n",
              "    </tr>\n",
              "    <tr>\n",
              "      <th>title</th>\n",
              "      <td>0</td>\n",
              "    </tr>\n",
              "    <tr>\n",
              "      <th>text</th>\n",
              "      <td>5</td>\n",
              "    </tr>\n",
              "    <tr>\n",
              "      <th>topic</th>\n",
              "      <td>62002</td>\n",
              "    </tr>\n",
              "    <tr>\n",
              "      <th>tags</th>\n",
              "      <td>27219</td>\n",
              "    </tr>\n",
              "    <tr>\n",
              "      <th>date</th>\n",
              "      <td>0</td>\n",
              "    </tr>\n",
              "  </tbody>\n",
              "</table>\n",
              "</div><br><label><b>dtype:</b> int64</label>"
            ]
          },
          "metadata": {},
          "execution_count": 11
        }
      ],
      "source": [
        "ds.isnull().sum()"
      ]
    },
    {
      "cell_type": "code",
      "execution_count": 12,
      "metadata": {
        "id": "2VNSXYZsnjxN",
        "outputId": "c1302306-8160-478d-89ac-e27dc1ce4205",
        "colab": {
          "base_uri": "https://localhost:8080/"
        }
      },
      "outputs": [
        {
          "output_type": "execute_result",
          "data": {
            "text/plain": [
              "(712654, 6)"
            ]
          },
          "metadata": {},
          "execution_count": 12
        }
      ],
      "source": [
        "ds.dropna(inplace= True)\n",
        "ds.shape"
      ]
    },
    {
      "cell_type": "code",
      "execution_count": 13,
      "metadata": {
        "id": "iMhkS6cknjxO"
      },
      "outputs": [],
      "source": [
        "ds_sample = ds.sample(n=1000)\n",
        "ds_sample.to_csv('ds_sample.csv',index = False)"
      ]
    },
    {
      "cell_type": "code",
      "execution_count": 14,
      "metadata": {
        "id": "XDSxoQc1njxO"
      },
      "outputs": [],
      "source": [
        "new_data = pd.read_csv('ds_sample.csv')"
      ]
    },
    {
      "cell_type": "code",
      "execution_count": 15,
      "metadata": {
        "id": "PjJanhmHnjxO",
        "outputId": "8b47f83b-f179-4aa4-f34d-33d0d0704f8e",
        "colab": {
          "base_uri": "https://localhost:8080/"
        }
      },
      "outputs": [
        {
          "output_type": "execute_result",
          "data": {
            "text/plain": [
              "(1000, 6)"
            ]
          },
          "metadata": {},
          "execution_count": 15
        }
      ],
      "source": [
        "new_data.dropna(inplace = True)\n",
        "new_data.shape"
      ]
    },
    {
      "cell_type": "markdown",
      "metadata": {
        "id": "NjJh7nsHnjxO"
      },
      "source": [
        "# Data exploration"
      ]
    },
    {
      "cell_type": "code",
      "execution_count": 16,
      "metadata": {
        "id": "hJG_cVrPnjxO"
      },
      "outputs": [],
      "source": [
        "from collections import Counter"
      ]
    },
    {
      "cell_type": "code",
      "execution_count": 17,
      "metadata": {
        "scrolled": true,
        "id": "QghiLFxlnjxO",
        "outputId": "7fd1f8db-6c98-42a6-f1a7-116b0d997fe7",
        "colab": {
          "base_uri": "https://localhost:8080/"
        }
      },
      "outputs": [
        {
          "output_type": "execute_result",
          "data": {
            "text/plain": [
              "Counter({'Кино': 10,\n",
              "         'Все': 641,\n",
              "         'Coцсети': 2,\n",
              "         'Футбол': 20,\n",
              "         'Политика': 43,\n",
              "         'Летние виды': 5,\n",
              "         'Бизнес': 15,\n",
              "         'Происшествия': 25,\n",
              "         'Наука': 10,\n",
              "         'Музыка': 10,\n",
              "         'Квартира': 6,\n",
              "         'Следствие и суд': 8,\n",
              "         'Город': 3,\n",
              "         'Прибалтика': 5,\n",
              "         'Общество': 39,\n",
              "         'Украина': 25,\n",
              "         'Госэкономика': 17,\n",
              "         'Стиль': 4,\n",
              "         'Люди': 11,\n",
              "         'Зимние виды': 3,\n",
              "         'Часы': 1,\n",
              "         'Мнения': 1,\n",
              "         'ТВ и радио': 4,\n",
              "         'Интернет': 12,\n",
              "         'Регионы': 5,\n",
              "         'Конфликты': 3,\n",
              "         'Пресса': 5,\n",
              "         'Закавказье': 3,\n",
              "         'Москва': 2,\n",
              "         'Полиция и спецслужбы': 6,\n",
              "         'Деловой климат': 1,\n",
              "         'Еда': 1,\n",
              "         'События': 5,\n",
              "         'Бокс и ММА': 2,\n",
              "         'Преступность': 5,\n",
              "         'Космос': 6,\n",
              "         'Инструменты': 1,\n",
              "         'Внешний вид': 1,\n",
              "         'История': 2,\n",
              "         'Рынки': 3,\n",
              "         'Финансы компаний': 1,\n",
              "         'Жизнь': 1,\n",
              "         'Явления': 2,\n",
              "         'Театр': 3,\n",
              "         'Хоккей': 1,\n",
              "         'Движение': 2,\n",
              "         'Звери': 3,\n",
              "         'Игры': 4,\n",
              "         'Криминал': 1,\n",
              "         'Искусство': 1,\n",
              "         'Софт': 2,\n",
              "         'Мировой бизнес': 2,\n",
              "         'Оружие': 1,\n",
              "         'Вещи': 1,\n",
              "         'Гаджеты': 1,\n",
              "         'Достижения': 1,\n",
              "         'Туризм': 1,\n",
              "         'Офис': 1})"
            ]
          },
          "metadata": {},
          "execution_count": 17
        }
      ],
      "source": [
        "Counter(ds_sample.tags)"
      ]
    },
    {
      "cell_type": "code",
      "execution_count": 18,
      "metadata": {
        "scrolled": true,
        "id": "NaX0d9xnnjxO",
        "outputId": "11870b81-4577-41d8-fd58-ce755baa32dc",
        "colab": {
          "base_uri": "https://localhost:8080/"
        }
      },
      "outputs": [
        {
          "output_type": "execute_result",
          "data": {
            "text/plain": [
              "{'Все': 453581,\n",
              " 'Политика': 33220,\n",
              " 'Общество': 27560,\n",
              " 'Украина': 17934,\n",
              " 'Происшествия': 15972,\n",
              " 'Футбол': 13128,\n",
              " 'Госэкономика': 12869,\n",
              " 'Кино': 9109,\n",
              " 'Бизнес': 8224,\n",
              " 'Интернет': 7945,\n",
              " 'Наука': 6975,\n",
              " 'Следствие и суд': 6825,\n",
              " 'Музыка': 5822,\n",
              " 'Люди': 5184,\n",
              " 'Преступность': 4737,\n",
              " 'Квартира': 3759,\n",
              " 'Космос': 3622,\n",
              " 'События': 3161,\n",
              " 'Конфликты': 3136,\n",
              " 'ТВ и радио': 3028,\n",
              " 'Coцсети': 2924,\n",
              " 'Летние виды': 2893,\n",
              " 'Деловой климат': 2656,\n",
              " 'Регионы': 2639,\n",
              " 'Криминал': 2550,\n",
              " 'Явления': 2523,\n",
              " 'Бокс и ММА': 2443,\n",
              " 'Звери': 2278,\n",
              " 'Город': 2247,\n",
              " 'Гаджеты': 2183,\n",
              " 'Мир': 2121,\n",
              " 'Стиль': 2090,\n",
              " 'Игры': 2072,\n",
              " 'Рынки': 2012,\n",
              " 'Пресса': 1805,\n",
              " 'Искусство': 1795,\n",
              " 'Зимние виды': 1677,\n",
              " 'Полиция и спецслужбы': 1635,\n",
              " 'Закавказье': 1442,\n",
              " 'Деньги': 1361,\n",
              " 'Москва': 1312,\n",
              " 'Прибалтика': 1242,\n",
              " 'Театр': 1217,\n",
              " 'Оружие': 1216,\n",
              " 'Техника': 1208,\n",
              " 'Книги': 1208,\n",
              " 'Средняя Азия': 1131,\n",
              " 'Дача': 1084,\n",
              " 'Белоруссия': 916,\n",
              " 'Хоккей': 915,\n",
              " 'Мировой бизнес': 854,\n",
              " 'Движение': 834,\n",
              " 'Офис': 783,\n",
              " 'Внешний вид': 727,\n",
              " 'Достижения': 718,\n",
              " 'Инструменты': 710,\n",
              " 'Россия': 706,\n",
              " 'Часы': 662,\n",
              " 'Софт': 652,\n",
              " 'Мнения': 615,\n",
              " 'Мемы': 477,\n",
              " 'Вирусные ролики': 474,\n",
              " 'Еда': 457,\n",
              " 'Молдавия': 439,\n",
              " 'Вещи': 424,\n",
              " 'Реклама': 389,\n",
              " 'История': 347,\n",
              " 'Жизнь': 333,\n",
              " 'Автобизнес': 310,\n",
              " 'Киберпреступность': 169,\n",
              " 'Финансы компаний': 155,\n",
              " 'Преступная Россия': 144,\n",
              " 'Авто': 141,\n",
              " 'Туризм': 85,\n",
              " 'Социальная сфера': 70,\n",
              " 'Первая мировая': 65,\n",
              " 'Вкусы': 54,\n",
              " 'Экология': 53,\n",
              " 'Наследие': 46,\n",
              " 'Госрегулирование': 41,\n",
              " 'Производители': 36,\n",
              " 'Аналитика рынка': 28,\n",
              " 'Фотография': 28,\n",
              " 'Страноведение': 21,\n",
              " 'Выборы': 11,\n",
              " 'Мировой опыт': 6,\n",
              " 'Вооружение': 3,\n",
              " 'Инновации': 1}"
            ]
          },
          "metadata": {},
          "execution_count": 18
        }
      ],
      "source": [
        "cntr = Counter(ds.tags)\n",
        "{k: v for k, v in sorted(cntr.items(), key=lambda item: item[1], reverse=True)}"
      ]
    },
    {
      "cell_type": "code",
      "execution_count": 19,
      "metadata": {
        "id": "ZWpEiO_jnjxP",
        "outputId": "16844cc1-8580-410d-d7ca-2f2a329490d2",
        "colab": {
          "referenced_widgets": [
            "5ca62b8d406f4a76b68342258798970d",
            "fbd65a922bd74a7ebf81ebc4506c7496",
            "72c02f73548e4157967760de110fb42c",
            "f3b3313da8d24fc3a71b5eb5831d7f20",
            "7528a8a9b60d46c98fcc5865e5983edd",
            "6b43df379c0a4619b56931272ae41c2a",
            "5cba10d1ed0341998686ac6bb159177e",
            "6a6b5e8baa32453caf26c6d181fb804d",
            "caaf2d9ba58342e59513f42e25165c7d",
            "189da67bd04f48e881b534bc88b06c03",
            "04f6efa66af94d448a00ff42149d1a29"
          ],
          "base_uri": "https://localhost:8080/",
          "height": 185
        }
      },
      "outputs": [
        {
          "output_type": "stream",
          "name": "stderr",
          "text": [
            "<>:6: SyntaxWarning: invalid escape sequence '\\,'\n",
            "<>:6: SyntaxWarning: invalid escape sequence '\\,'\n",
            "/tmp/ipython-input-1762243782.py:6: SyntaxWarning: invalid escape sequence '\\,'\n",
            "  punctuations = '''!()-[]{};:'\"\\,<>./?@#$%^&*_~abcdefghijklmnopqrstuvwxyzABCDEFGHIJKLMNOPQRSTUVWXYZ1234567890'''\n",
            "/tmp/ipython-input-1762243782.py:18: TqdmDeprecationWarning: This function will be removed in tqdm==5.0.0\n",
            "Please use `tqdm.notebook.tqdm` instead of `tqdm.tqdm_notebook`\n",
            "  no_punc_text = [rem_punc(t) for t in tqdm_notebook(texts)]\n"
          ]
        },
        {
          "output_type": "display_data",
          "data": {
            "text/plain": [
              "  0%|          | 0/1000 [00:00<?, ?it/s]"
            ],
            "application/vnd.jupyter.widget-view+json": {
              "version_major": 2,
              "version_minor": 0,
              "model_id": "5ca62b8d406f4a76b68342258798970d"
            }
          },
          "metadata": {}
        }
      ],
      "source": [
        "texts = ds_sample.text.values\n",
        "#remove punctuation\n",
        "\n",
        "def rem_punc(t):\n",
        "# define punctuation\n",
        "    punctuations = '''!()-[]{};:'\"\\,<>./?@#$%^&*_~abcdefghijklmnopqrstuvwxyzABCDEFGHIJKLMNOPQRSTUVWXYZ1234567890'''\n",
        "\n",
        "\n",
        "# remove punctuation from the string\n",
        "    for c in punctuations:\n",
        "        t=t.replace(c,' ')\n",
        "\n",
        "\n",
        "# display the unpunctuated string\n",
        "    return t.replace('\\n',' ')\n",
        "\n",
        "\n",
        "no_punc_text = [rem_punc(t) for t in tqdm_notebook(texts)]"
      ]
    },
    {
      "cell_type": "code",
      "execution_count": 20,
      "metadata": {
        "id": "zG3AEsVgnjxP",
        "outputId": "88a6a895-230b-4340-dc2e-52df43de153f",
        "colab": {
          "referenced_widgets": [
            "d77c8380073742e5aafbef419ba06dc5",
            "4c6ea86906f54be0800cfd3ead509630",
            "a9605b6785724aa199fb1ed6741ebe78",
            "75d0c0a6c96249c7b7737777936b7afc",
            "052faa70796d4ec3b19a6d67b3e20563",
            "a9f6545d25104e5bbe50bed860074483",
            "1620b2a71a6d43fdac6c87bae699b476",
            "f4362f534b5043ecbd76ec2a260f454c",
            "50e37d6b5722480a88e92ca8b105c266",
            "aa77cf5d396f4d2a867578047e400061",
            "ba73212d0eb046d49689b219822a4d66"
          ],
          "base_uri": "https://localhost:8080/",
          "height": 352
        }
      },
      "outputs": [
        {
          "output_type": "stream",
          "name": "stderr",
          "text": [
            "/tmp/ipython-input-1263936609.py:2: TqdmDeprecationWarning: This function will be removed in tqdm==5.0.0\n",
            "Please use `tqdm.notebook.tqdm` instead of `tqdm.tqdm_notebook`\n",
            "  lc_text = [t.lower() for t in tqdm_notebook(no_punc_text)]\n"
          ]
        },
        {
          "output_type": "display_data",
          "data": {
            "text/plain": [
              "  0%|          | 0/1000 [00:00<?, ?it/s]"
            ],
            "application/vnd.jupyter.widget-view+json": {
              "version_major": 2,
              "version_minor": 0,
              "model_id": "d77c8380073742e5aafbef419ba06dc5"
            }
          },
          "metadata": {}
        },
        {
          "output_type": "execute_result",
          "data": {
            "text/plain": [
              "'министр культуры россии владимир мединский пообещал китайским кинематографистам персональную экскурсию по дворцам петербурга  пишет риа новости  «если господа из                  приедут в петербург… я не умею снимать кино  но я в юности работал экскурсоводом  вел экскурсии для иностранных граждан  я обещаю вам личную экскурсию по петербургским дворцам»  — сказал мединский на рабочей встрече с представителями китайской киностудии                   которая прошла    мая в москве  министр пригласил кинематографистов принять участие в кинофоруме в петербурге  который состоится в сентябре      года  отметив  что нужно развивать сотрудничество россии и китая в сфере кино  китайцы в свою очередь подчеркнули  что хотели бы сотрудничать с конкретными партнерами в россии  мединский предложил им компании «централ партнершип» и «каро»  через которые можно предлагать китаю российские фильмы и прокатывать китайские ленты в россии  в переговорах участвовали председатель совета директоров                   генеральный директор                глава департамента кинематографии минкультуры вячеслав тельнов  продюсеры федор бондарчук  ренат давлетьяров  дмитрий рудовский и другие '"
            ],
            "application/vnd.google.colaboratory.intrinsic+json": {
              "type": "string"
            }
          },
          "metadata": {},
          "execution_count": 20
        }
      ],
      "source": [
        "#lowercase\n",
        "lc_text = [t.lower() for t in tqdm_notebook(no_punc_text)]\n",
        "lc_text[0]"
      ]
    },
    {
      "cell_type": "code",
      "execution_count": 24,
      "metadata": {
        "id": "aH9Texd8njxP",
        "outputId": "77859aeb-c91e-49ef-dae7-ddf783e1366e",
        "colab": {
          "base_uri": "https://localhost:8080/"
        }
      },
      "outputs": [
        {
          "output_type": "stream",
          "name": "stderr",
          "text": [
            "[nltk_data] Downloading package stopwords to /root/nltk_data...\n",
            "[nltk_data]   Package stopwords is already up-to-date!\n",
            "[nltk_data] Downloading package punkt_tab to /root/nltk_data...\n",
            "[nltk_data]   Unzipping tokenizers/punkt_tab.zip.\n"
          ]
        }
      ],
      "source": [
        "#stopword removal\n",
        "import nltk\n",
        "from nltk.corpus import stopwords\n",
        "import nltk\n",
        "nltk.download('stopwords')\n",
        "nltk.download(\"punkt_tab\")\n",
        "sw = stopwords.words('russian')"
      ]
    },
    {
      "cell_type": "code",
      "execution_count": 25,
      "metadata": {
        "id": "UH3EdEZ0njxP",
        "outputId": "1f1a5a88-5359-43cc-bb0b-f9c162c626f4",
        "colab": {
          "base_uri": "https://localhost:8080/"
        }
      },
      "outputs": [
        {
          "output_type": "stream",
          "name": "stdout",
          "text": [
            "Original: ['Я', 'очень', 'люблю', 'изучать', 'обработку', 'естественного', 'языка']\n",
            "Without stopwords: ['очень', 'люблю', 'изучать', 'обработку', 'естественного', 'языка']\n"
          ]
        }
      ],
      "source": [
        "text = \"Я очень люблю изучать обработку естественного языка\"\n",
        "\n",
        "# tokenize into words\n",
        "words = nltk.word_tokenize(text, language=\"russian\")\n",
        "\n",
        "# filter out stopwords\n",
        "filtered = [w for w in words if w.lower() not in sw]\n",
        "\n",
        "print(\"Original:\", words)\n",
        "print(\"Without stopwords:\", filtered)"
      ]
    },
    {
      "cell_type": "code",
      "source": [
        "sample_text = \"Меня зовут Мухамедали, мнe 19 лет. Я развиваюсь в сфере машинное обучение и глубокое обучение\""
      ],
      "metadata": {
        "id": "Ov50eKVcGqpQ"
      },
      "execution_count": 45,
      "outputs": []
    },
    {
      "cell_type": "code",
      "source": [
        "sample_text.replace(\",\", \"\").strip().split()\n"
      ],
      "metadata": {
        "colab": {
          "base_uri": "https://localhost:8080/"
        },
        "id": "KifW1TAyG8eL",
        "outputId": "b0c7fc1e-6355-44ce-f413-59ff6525d4c6"
      },
      "execution_count": 46,
      "outputs": [
        {
          "output_type": "execute_result",
          "data": {
            "text/plain": [
              "['Меня',\n",
              " 'зовут',\n",
              " 'Мухамедали',\n",
              " 'мнe',\n",
              " '19',\n",
              " 'лет.',\n",
              " 'Я',\n",
              " 'развиваюсь',\n",
              " 'в',\n",
              " 'сфере',\n",
              " 'машинное',\n",
              " 'обучение',\n",
              " 'и',\n",
              " 'глубокое',\n",
              " 'обучение']"
            ]
          },
          "metadata": {},
          "execution_count": 46
        }
      ]
    },
    {
      "cell_type": "code",
      "source": [
        "words = nltk.word_tokenize(sample_text, language=\"russian\")\n",
        "words"
      ],
      "metadata": {
        "colab": {
          "base_uri": "https://localhost:8080/"
        },
        "id": "kqmAUUayG0BA",
        "outputId": "df730790-db10-40f1-f809-ad46b11b1d1c"
      },
      "execution_count": 47,
      "outputs": [
        {
          "output_type": "execute_result",
          "data": {
            "text/plain": [
              "['Меня',\n",
              " 'зовут',\n",
              " 'Мухамедали',\n",
              " ',',\n",
              " 'мнe',\n",
              " '19',\n",
              " 'лет',\n",
              " '.',\n",
              " 'Я',\n",
              " 'развиваюсь',\n",
              " 'в',\n",
              " 'сфере',\n",
              " 'машинное',\n",
              " 'обучение',\n",
              " 'и',\n",
              " 'глубокое',\n",
              " 'обучение']"
            ]
          },
          "metadata": {},
          "execution_count": 47
        }
      ]
    },
    {
      "cell_type": "code",
      "source": [
        "filtered_words = [s for s in words if s.lower() not in sw]\n",
        "filtered_words"
      ],
      "metadata": {
        "colab": {
          "base_uri": "https://localhost:8080/"
        },
        "id": "99_aQk5nHRZe",
        "outputId": "afa2a33d-2fda-42df-ede5-22284093d898"
      },
      "execution_count": 48,
      "outputs": [
        {
          "output_type": "execute_result",
          "data": {
            "text/plain": [
              "['зовут',\n",
              " 'Мухамедали',\n",
              " ',',\n",
              " 'мнe',\n",
              " '19',\n",
              " 'лет',\n",
              " '.',\n",
              " 'развиваюсь',\n",
              " 'сфере',\n",
              " 'машинное',\n",
              " 'обучение',\n",
              " 'глубокое',\n",
              " 'обучение']"
            ]
          },
          "metadata": {},
          "execution_count": 48
        }
      ]
    },
    {
      "cell_type": "code",
      "execution_count": 26,
      "metadata": {
        "id": "sKI939ojnjxP",
        "outputId": "471a0dab-0e91-48ed-baff-c47dd90585dd",
        "colab": {
          "base_uri": "https://localhost:8080/",
          "height": 552
        }
      },
      "outputs": [
        {
          "output_type": "execute_result",
          "data": {
            "text/plain": [
              "                                           url  \\\n",
              "0   https://lenta.ru/news/1914/09/16/hungarnn/   \n",
              "1  https://lenta.ru/news/1914/09/16/lermontov/   \n",
              "2  https://lenta.ru/news/1914/09/17/nesteroff/   \n",
              "3   https://lenta.ru/news/1914/09/17/bulldogn/   \n",
              "4       https://lenta.ru/news/1914/09/18/zver/   \n",
              "\n",
              "                                               title  \\\n",
              "0  1914. Русские войска вступили в пределы Венгрии     \n",
              "1  1914. Празднование столетия М.Ю. Лермонтова от...   \n",
              "2                           1914. Das ist Nesteroff!   \n",
              "3                    1914. Бульдог-гонец под Льежем    \n",
              "4           1914. Под Люблином пойман швабский зверь   \n",
              "\n",
              "                                                text       topic  \\\n",
              "0  Бои у Сопоцкина и Друскеник закончились отступ...  Библиотека   \n",
              "1  Министерство народного просвещения, в виду про...  Библиотека   \n",
              "2  Штабс-капитан П. Н. Нестеров на днях, увидев в...  Библиотека   \n",
              "3  Фотограф-корреспондент Daily Mirror рассказыва...  Библиотека   \n",
              "4  Лица, приехавшие в Варшаву из Люблина, передаю...  Библиотека   \n",
              "\n",
              "             tags        date  \n",
              "0  Первая мировая  1914/09/16  \n",
              "1  Первая мировая  1914/09/16  \n",
              "2  Первая мировая  1914/09/17  \n",
              "3  Первая мировая  1914/09/17  \n",
              "4  Первая мировая  1914/09/18  "
            ],
            "text/html": [
              "\n",
              "  <div id=\"df-9f32d621-c483-46de-90d9-fcb0ff80902b\" class=\"colab-df-container\">\n",
              "    <div>\n",
              "<style scoped>\n",
              "    .dataframe tbody tr th:only-of-type {\n",
              "        vertical-align: middle;\n",
              "    }\n",
              "\n",
              "    .dataframe tbody tr th {\n",
              "        vertical-align: top;\n",
              "    }\n",
              "\n",
              "    .dataframe thead th {\n",
              "        text-align: right;\n",
              "    }\n",
              "</style>\n",
              "<table border=\"1\" class=\"dataframe\">\n",
              "  <thead>\n",
              "    <tr style=\"text-align: right;\">\n",
              "      <th></th>\n",
              "      <th>url</th>\n",
              "      <th>title</th>\n",
              "      <th>text</th>\n",
              "      <th>topic</th>\n",
              "      <th>tags</th>\n",
              "      <th>date</th>\n",
              "    </tr>\n",
              "  </thead>\n",
              "  <tbody>\n",
              "    <tr>\n",
              "      <th>0</th>\n",
              "      <td>https://lenta.ru/news/1914/09/16/hungarnn/</td>\n",
              "      <td>1914. Русские войска вступили в пределы Венгрии</td>\n",
              "      <td>Бои у Сопоцкина и Друскеник закончились отступ...</td>\n",
              "      <td>Библиотека</td>\n",
              "      <td>Первая мировая</td>\n",
              "      <td>1914/09/16</td>\n",
              "    </tr>\n",
              "    <tr>\n",
              "      <th>1</th>\n",
              "      <td>https://lenta.ru/news/1914/09/16/lermontov/</td>\n",
              "      <td>1914. Празднование столетия М.Ю. Лермонтова от...</td>\n",
              "      <td>Министерство народного просвещения, в виду про...</td>\n",
              "      <td>Библиотека</td>\n",
              "      <td>Первая мировая</td>\n",
              "      <td>1914/09/16</td>\n",
              "    </tr>\n",
              "    <tr>\n",
              "      <th>2</th>\n",
              "      <td>https://lenta.ru/news/1914/09/17/nesteroff/</td>\n",
              "      <td>1914. Das ist Nesteroff!</td>\n",
              "      <td>Штабс-капитан П. Н. Нестеров на днях, увидев в...</td>\n",
              "      <td>Библиотека</td>\n",
              "      <td>Первая мировая</td>\n",
              "      <td>1914/09/17</td>\n",
              "    </tr>\n",
              "    <tr>\n",
              "      <th>3</th>\n",
              "      <td>https://lenta.ru/news/1914/09/17/bulldogn/</td>\n",
              "      <td>1914. Бульдог-гонец под Льежем</td>\n",
              "      <td>Фотограф-корреспондент Daily Mirror рассказыва...</td>\n",
              "      <td>Библиотека</td>\n",
              "      <td>Первая мировая</td>\n",
              "      <td>1914/09/17</td>\n",
              "    </tr>\n",
              "    <tr>\n",
              "      <th>4</th>\n",
              "      <td>https://lenta.ru/news/1914/09/18/zver/</td>\n",
              "      <td>1914. Под Люблином пойман швабский зверь</td>\n",
              "      <td>Лица, приехавшие в Варшаву из Люблина, передаю...</td>\n",
              "      <td>Библиотека</td>\n",
              "      <td>Первая мировая</td>\n",
              "      <td>1914/09/18</td>\n",
              "    </tr>\n",
              "  </tbody>\n",
              "</table>\n",
              "</div>\n",
              "    <div class=\"colab-df-buttons\">\n",
              "\n",
              "  <div class=\"colab-df-container\">\n",
              "    <button class=\"colab-df-convert\" onclick=\"convertToInteractive('df-9f32d621-c483-46de-90d9-fcb0ff80902b')\"\n",
              "            title=\"Convert this dataframe to an interactive table.\"\n",
              "            style=\"display:none;\">\n",
              "\n",
              "  <svg xmlns=\"http://www.w3.org/2000/svg\" height=\"24px\" viewBox=\"0 -960 960 960\">\n",
              "    <path d=\"M120-120v-720h720v720H120Zm60-500h600v-160H180v160Zm220 220h160v-160H400v160Zm0 220h160v-160H400v160ZM180-400h160v-160H180v160Zm440 0h160v-160H620v160ZM180-180h160v-160H180v160Zm440 0h160v-160H620v160Z\"/>\n",
              "  </svg>\n",
              "    </button>\n",
              "\n",
              "  <style>\n",
              "    .colab-df-container {\n",
              "      display:flex;\n",
              "      gap: 12px;\n",
              "    }\n",
              "\n",
              "    .colab-df-convert {\n",
              "      background-color: #E8F0FE;\n",
              "      border: none;\n",
              "      border-radius: 50%;\n",
              "      cursor: pointer;\n",
              "      display: none;\n",
              "      fill: #1967D2;\n",
              "      height: 32px;\n",
              "      padding: 0 0 0 0;\n",
              "      width: 32px;\n",
              "    }\n",
              "\n",
              "    .colab-df-convert:hover {\n",
              "      background-color: #E2EBFA;\n",
              "      box-shadow: 0px 1px 2px rgba(60, 64, 67, 0.3), 0px 1px 3px 1px rgba(60, 64, 67, 0.15);\n",
              "      fill: #174EA6;\n",
              "    }\n",
              "\n",
              "    .colab-df-buttons div {\n",
              "      margin-bottom: 4px;\n",
              "    }\n",
              "\n",
              "    [theme=dark] .colab-df-convert {\n",
              "      background-color: #3B4455;\n",
              "      fill: #D2E3FC;\n",
              "    }\n",
              "\n",
              "    [theme=dark] .colab-df-convert:hover {\n",
              "      background-color: #434B5C;\n",
              "      box-shadow: 0px 1px 3px 1px rgba(0, 0, 0, 0.15);\n",
              "      filter: drop-shadow(0px 1px 2px rgba(0, 0, 0, 0.3));\n",
              "      fill: #FFFFFF;\n",
              "    }\n",
              "  </style>\n",
              "\n",
              "    <script>\n",
              "      const buttonEl =\n",
              "        document.querySelector('#df-9f32d621-c483-46de-90d9-fcb0ff80902b button.colab-df-convert');\n",
              "      buttonEl.style.display =\n",
              "        google.colab.kernel.accessAllowed ? 'block' : 'none';\n",
              "\n",
              "      async function convertToInteractive(key) {\n",
              "        const element = document.querySelector('#df-9f32d621-c483-46de-90d9-fcb0ff80902b');\n",
              "        const dataTable =\n",
              "          await google.colab.kernel.invokeFunction('convertToInteractive',\n",
              "                                                    [key], {});\n",
              "        if (!dataTable) return;\n",
              "\n",
              "        const docLinkHtml = 'Like what you see? Visit the ' +\n",
              "          '<a target=\"_blank\" href=https://colab.research.google.com/notebooks/data_table.ipynb>data table notebook</a>'\n",
              "          + ' to learn more about interactive tables.';\n",
              "        element.innerHTML = '';\n",
              "        dataTable['output_type'] = 'display_data';\n",
              "        await google.colab.output.renderOutput(dataTable, element);\n",
              "        const docLink = document.createElement('div');\n",
              "        docLink.innerHTML = docLinkHtml;\n",
              "        element.appendChild(docLink);\n",
              "      }\n",
              "    </script>\n",
              "  </div>\n",
              "\n",
              "\n",
              "    <div id=\"df-acfae898-3297-43c5-9ec6-6128a0e3743e\">\n",
              "      <button class=\"colab-df-quickchart\" onclick=\"quickchart('df-acfae898-3297-43c5-9ec6-6128a0e3743e')\"\n",
              "                title=\"Suggest charts\"\n",
              "                style=\"display:none;\">\n",
              "\n",
              "<svg xmlns=\"http://www.w3.org/2000/svg\" height=\"24px\"viewBox=\"0 0 24 24\"\n",
              "     width=\"24px\">\n",
              "    <g>\n",
              "        <path d=\"M19 3H5c-1.1 0-2 .9-2 2v14c0 1.1.9 2 2 2h14c1.1 0 2-.9 2-2V5c0-1.1-.9-2-2-2zM9 17H7v-7h2v7zm4 0h-2V7h2v10zm4 0h-2v-4h2v4z\"/>\n",
              "    </g>\n",
              "</svg>\n",
              "      </button>\n",
              "\n",
              "<style>\n",
              "  .colab-df-quickchart {\n",
              "      --bg-color: #E8F0FE;\n",
              "      --fill-color: #1967D2;\n",
              "      --hover-bg-color: #E2EBFA;\n",
              "      --hover-fill-color: #174EA6;\n",
              "      --disabled-fill-color: #AAA;\n",
              "      --disabled-bg-color: #DDD;\n",
              "  }\n",
              "\n",
              "  [theme=dark] .colab-df-quickchart {\n",
              "      --bg-color: #3B4455;\n",
              "      --fill-color: #D2E3FC;\n",
              "      --hover-bg-color: #434B5C;\n",
              "      --hover-fill-color: #FFFFFF;\n",
              "      --disabled-bg-color: #3B4455;\n",
              "      --disabled-fill-color: #666;\n",
              "  }\n",
              "\n",
              "  .colab-df-quickchart {\n",
              "    background-color: var(--bg-color);\n",
              "    border: none;\n",
              "    border-radius: 50%;\n",
              "    cursor: pointer;\n",
              "    display: none;\n",
              "    fill: var(--fill-color);\n",
              "    height: 32px;\n",
              "    padding: 0;\n",
              "    width: 32px;\n",
              "  }\n",
              "\n",
              "  .colab-df-quickchart:hover {\n",
              "    background-color: var(--hover-bg-color);\n",
              "    box-shadow: 0 1px 2px rgba(60, 64, 67, 0.3), 0 1px 3px 1px rgba(60, 64, 67, 0.15);\n",
              "    fill: var(--button-hover-fill-color);\n",
              "  }\n",
              "\n",
              "  .colab-df-quickchart-complete:disabled,\n",
              "  .colab-df-quickchart-complete:disabled:hover {\n",
              "    background-color: var(--disabled-bg-color);\n",
              "    fill: var(--disabled-fill-color);\n",
              "    box-shadow: none;\n",
              "  }\n",
              "\n",
              "  .colab-df-spinner {\n",
              "    border: 2px solid var(--fill-color);\n",
              "    border-color: transparent;\n",
              "    border-bottom-color: var(--fill-color);\n",
              "    animation:\n",
              "      spin 1s steps(1) infinite;\n",
              "  }\n",
              "\n",
              "  @keyframes spin {\n",
              "    0% {\n",
              "      border-color: transparent;\n",
              "      border-bottom-color: var(--fill-color);\n",
              "      border-left-color: var(--fill-color);\n",
              "    }\n",
              "    20% {\n",
              "      border-color: transparent;\n",
              "      border-left-color: var(--fill-color);\n",
              "      border-top-color: var(--fill-color);\n",
              "    }\n",
              "    30% {\n",
              "      border-color: transparent;\n",
              "      border-left-color: var(--fill-color);\n",
              "      border-top-color: var(--fill-color);\n",
              "      border-right-color: var(--fill-color);\n",
              "    }\n",
              "    40% {\n",
              "      border-color: transparent;\n",
              "      border-right-color: var(--fill-color);\n",
              "      border-top-color: var(--fill-color);\n",
              "    }\n",
              "    60% {\n",
              "      border-color: transparent;\n",
              "      border-right-color: var(--fill-color);\n",
              "    }\n",
              "    80% {\n",
              "      border-color: transparent;\n",
              "      border-right-color: var(--fill-color);\n",
              "      border-bottom-color: var(--fill-color);\n",
              "    }\n",
              "    90% {\n",
              "      border-color: transparent;\n",
              "      border-bottom-color: var(--fill-color);\n",
              "    }\n",
              "  }\n",
              "</style>\n",
              "\n",
              "      <script>\n",
              "        async function quickchart(key) {\n",
              "          const quickchartButtonEl =\n",
              "            document.querySelector('#' + key + ' button');\n",
              "          quickchartButtonEl.disabled = true;  // To prevent multiple clicks.\n",
              "          quickchartButtonEl.classList.add('colab-df-spinner');\n",
              "          try {\n",
              "            const charts = await google.colab.kernel.invokeFunction(\n",
              "                'suggestCharts', [key], {});\n",
              "          } catch (error) {\n",
              "            console.error('Error during call to suggestCharts:', error);\n",
              "          }\n",
              "          quickchartButtonEl.classList.remove('colab-df-spinner');\n",
              "          quickchartButtonEl.classList.add('colab-df-quickchart-complete');\n",
              "        }\n",
              "        (() => {\n",
              "          let quickchartButtonEl =\n",
              "            document.querySelector('#df-acfae898-3297-43c5-9ec6-6128a0e3743e button');\n",
              "          quickchartButtonEl.style.display =\n",
              "            google.colab.kernel.accessAllowed ? 'block' : 'none';\n",
              "        })();\n",
              "      </script>\n",
              "    </div>\n",
              "\n",
              "    </div>\n",
              "  </div>\n"
            ],
            "application/vnd.google.colaboratory.intrinsic+json": {
              "type": "dataframe",
              "variable_name": "ds"
            }
          },
          "metadata": {},
          "execution_count": 26
        }
      ],
      "source": [
        "ds.head()"
      ]
    },
    {
      "cell_type": "code",
      "execution_count": 27,
      "metadata": {
        "id": "ymnQT7T_njxP",
        "outputId": "30847f93-0ffe-4e58-970c-94f34504255a",
        "colab": {
          "base_uri": "https://localhost:8080/",
          "height": 56
        }
      },
      "outputs": [
        {
          "output_type": "execute_result",
          "data": {
            "text/plain": [
              "'1914. Русские войска вступили в\\xa0пределы Венгрии  '"
            ],
            "application/vnd.google.colaboratory.intrinsic+json": {
              "type": "string"
            }
          },
          "metadata": {},
          "execution_count": 27
        }
      ],
      "source": [
        "ds['title'][0]"
      ]
    },
    {
      "cell_type": "code",
      "execution_count": 28,
      "metadata": {
        "id": "ZXDP0YIbnjxP"
      },
      "outputs": [],
      "source": [
        "words = nltk.word_tokenize(ds['title'][0], language=\"russian\")"
      ]
    },
    {
      "cell_type": "code",
      "execution_count": 29,
      "metadata": {
        "id": "DEphtDLfnjxP",
        "outputId": "d267b30a-c520-46d7-83a6-65e3efe4fa34",
        "colab": {
          "base_uri": "https://localhost:8080/"
        }
      },
      "outputs": [
        {
          "output_type": "execute_result",
          "data": {
            "text/plain": [
              "['1914', '.', 'Русские', 'войска', 'вступили', 'в', 'пределы', 'Венгрии']"
            ]
          },
          "metadata": {},
          "execution_count": 29
        }
      ],
      "source": [
        "words"
      ]
    },
    {
      "cell_type": "code",
      "execution_count": 60,
      "metadata": {
        "id": "zWvEZsqinjxP"
      },
      "outputs": [],
      "source": [
        "def clean_stopwords(text):\n",
        "  words = nltk.word_tokenize(text) # tokenize text\n",
        "  filtered_words = [word for word in words if word.lower() not in sw] # remove stopwords\n",
        "  text = \" \".join(filtered_words) # join our text\n",
        "  return text"
      ]
    },
    {
      "cell_type": "code",
      "source": [
        "clean_stopwords(\"Меня зовут Мухамедали, мне 19 лет, я очень хочу стать МЛ исследователем. Я щас учусь в КБТУ\")"
      ],
      "metadata": {
        "colab": {
          "base_uri": "https://localhost:8080/",
          "height": 73
        },
        "id": "40YMpbBJIB9T",
        "outputId": "693823f5-5b99-44b2-d515-9dbac5b96c49"
      },
      "execution_count": 59,
      "outputs": [
        {
          "output_type": "execute_result",
          "data": {
            "text/plain": [
              "'Меня зовут Мухамедали , мне 19 лет , я очень хочу стать МЛ исследователем . Я щас учусь в КБТУ'"
            ],
            "application/vnd.google.colaboratory.intrinsic+json": {
              "type": "string"
            }
          },
          "metadata": {},
          "execution_count": 59
        }
      ]
    },
    {
      "cell_type": "code",
      "source": [
        "ds_sample['title'] = ds_sample['title'].map(clean_stopwords)"
      ],
      "metadata": {
        "id": "HE0tGuwAJ24H"
      },
      "execution_count": 76,
      "outputs": []
    },
    {
      "cell_type": "code",
      "source": [
        "ds_sample['text'] = ds_sample['text'].map(clean_stopwords)"
      ],
      "metadata": {
        "id": "KRqzPrVjJdLM"
      },
      "execution_count": 77,
      "outputs": []
    },
    {
      "cell_type": "code",
      "source": [
        "ds_sample"
      ],
      "metadata": {
        "colab": {
          "base_uri": "https://localhost:8080/",
          "height": 1000
        },
        "id": "KZO0PdlUJgER",
        "outputId": "2f8753ed-c2bd-44da-83b3-5377e7d357ed"
      },
      "execution_count": 78,
      "outputs": [
        {
          "output_type": "execute_result",
          "data": {
            "text/plain": [
              "                                                      url  \\\n",
              "548279         https://lenta.ru/news/2015/05/29/medinski/   \n",
              "341819            https://lenta.ru/news/2010/08/18/semak/   \n",
              "318985             https://lenta.ru/news/2010/02/13/help/   \n",
              "232648             https://lenta.ru/news/2008/06/09/acdc/   \n",
              "74002         https://lenta.ru/news/2003/07/08/stepashin/   \n",
              "...                                                   ...   \n",
              "248718             https://lenta.ru/news/2008/10/02/fall/   \n",
              "332891            https://lenta.ru/news/2010/06/04/clear/   \n",
              "130388          https://lenta.ru/news/2005/09/15/fradkov/   \n",
              "738274  https://lenta.ru/news/2018/12/09/mozgovoy_nano...   \n",
              "437813            https://lenta.ru/news/2012/10/05/gift1/   \n",
              "\n",
              "                                                    title  \\\n",
              "548279  Мединский пообещал китайским кинематографистам...   \n",
              "341819             Семака удовлетворила игра `` Осером ''   \n",
              "318985  Евкуров пообещал оказать материальную помощь р...   \n",
              "232648  AC/DC будут распространять новый альбом сеть с...   \n",
              "74002   Степашин : Абрамович купил `` Челси '' сокрыты...   \n",
              "...                                                   ...   \n",
              "248718           Курс евро доллару упал годового минимума   \n",
              "332891          Убивший семью бизнесмен признан вменяемым   \n",
              "130388  Фрадкова подали суд невнимание депутатскому за...   \n",
              "738274  Американка промыла нос заразилась поедающей мо...   \n",
              "437813  Путин подарил Рахмону копию карточки советског...   \n",
              "\n",
              "                                                     text        topic  \\\n",
              "548279  Министр культуры России Владимир Мединский поо...     Культура   \n",
              "341819  Полузащитник питерского `` Зенита `` Сергей Се...        Спорт   \n",
              "318985  Власти Ингушетии официально подтвердили факт г...       Россия   \n",
              "232648  Новый альбом австралийских рокеров AC/DC распр...     Культура   \n",
              "74002   Глава Счетной палаты России Сергей Степашин ус...       Россия   \n",
              "...                                                   ...          ...   \n",
              "248718  Евро упал минимума отношению доллару последний...    Экономика   \n",
              "332891  Застреливший из-за финансовых проблем жену дво...       Россия   \n",
              "130388  Депутат Госдумы Александр Лебедев обратился ми...       Россия   \n",
              "738274  Американка промыла нос водой из-под крана , за...     Из жизни   \n",
              "437813  Президент РФ Владимир Путин , находящийся визи...  Бывший СССР   \n",
              "\n",
              "                tags        date  \n",
              "548279          Кино  2015/05/29  \n",
              "341819           Все  2010/08/18  \n",
              "318985           Все  2010/02/13  \n",
              "232648           Все  2008/06/09  \n",
              "74002            Все  2003/07/08  \n",
              "...              ...         ...  \n",
              "248718           Все  2008/10/02  \n",
              "332891           Все  2010/06/04  \n",
              "130388           Все  2005/09/15  \n",
              "738274  Происшествия  2018/12/09  \n",
              "437813           Все  2012/10/05  \n",
              "\n",
              "[1000 rows x 6 columns]"
            ],
            "text/html": [
              "\n",
              "  <div id=\"df-33925a3c-ad7c-42ce-9639-ddf413c36da1\" class=\"colab-df-container\">\n",
              "    <div>\n",
              "<style scoped>\n",
              "    .dataframe tbody tr th:only-of-type {\n",
              "        vertical-align: middle;\n",
              "    }\n",
              "\n",
              "    .dataframe tbody tr th {\n",
              "        vertical-align: top;\n",
              "    }\n",
              "\n",
              "    .dataframe thead th {\n",
              "        text-align: right;\n",
              "    }\n",
              "</style>\n",
              "<table border=\"1\" class=\"dataframe\">\n",
              "  <thead>\n",
              "    <tr style=\"text-align: right;\">\n",
              "      <th></th>\n",
              "      <th>url</th>\n",
              "      <th>title</th>\n",
              "      <th>text</th>\n",
              "      <th>topic</th>\n",
              "      <th>tags</th>\n",
              "      <th>date</th>\n",
              "    </tr>\n",
              "  </thead>\n",
              "  <tbody>\n",
              "    <tr>\n",
              "      <th>548279</th>\n",
              "      <td>https://lenta.ru/news/2015/05/29/medinski/</td>\n",
              "      <td>Мединский пообещал китайским кинематографистам...</td>\n",
              "      <td>Министр культуры России Владимир Мединский поо...</td>\n",
              "      <td>Культура</td>\n",
              "      <td>Кино</td>\n",
              "      <td>2015/05/29</td>\n",
              "    </tr>\n",
              "    <tr>\n",
              "      <th>341819</th>\n",
              "      <td>https://lenta.ru/news/2010/08/18/semak/</td>\n",
              "      <td>Семака удовлетворила игра `` Осером ''</td>\n",
              "      <td>Полузащитник питерского `` Зенита `` Сергей Се...</td>\n",
              "      <td>Спорт</td>\n",
              "      <td>Все</td>\n",
              "      <td>2010/08/18</td>\n",
              "    </tr>\n",
              "    <tr>\n",
              "      <th>318985</th>\n",
              "      <td>https://lenta.ru/news/2010/02/13/help/</td>\n",
              "      <td>Евкуров пообещал оказать материальную помощь р...</td>\n",
              "      <td>Власти Ингушетии официально подтвердили факт г...</td>\n",
              "      <td>Россия</td>\n",
              "      <td>Все</td>\n",
              "      <td>2010/02/13</td>\n",
              "    </tr>\n",
              "    <tr>\n",
              "      <th>232648</th>\n",
              "      <td>https://lenta.ru/news/2008/06/09/acdc/</td>\n",
              "      <td>AC/DC будут распространять новый альбом сеть с...</td>\n",
              "      <td>Новый альбом австралийских рокеров AC/DC распр...</td>\n",
              "      <td>Культура</td>\n",
              "      <td>Все</td>\n",
              "      <td>2008/06/09</td>\n",
              "    </tr>\n",
              "    <tr>\n",
              "      <th>74002</th>\n",
              "      <td>https://lenta.ru/news/2003/07/08/stepashin/</td>\n",
              "      <td>Степашин : Абрамович купил `` Челси '' сокрыты...</td>\n",
              "      <td>Глава Счетной палаты России Сергей Степашин ус...</td>\n",
              "      <td>Россия</td>\n",
              "      <td>Все</td>\n",
              "      <td>2003/07/08</td>\n",
              "    </tr>\n",
              "    <tr>\n",
              "      <th>...</th>\n",
              "      <td>...</td>\n",
              "      <td>...</td>\n",
              "      <td>...</td>\n",
              "      <td>...</td>\n",
              "      <td>...</td>\n",
              "      <td>...</td>\n",
              "    </tr>\n",
              "    <tr>\n",
              "      <th>248718</th>\n",
              "      <td>https://lenta.ru/news/2008/10/02/fall/</td>\n",
              "      <td>Курс евро доллару упал годового минимума</td>\n",
              "      <td>Евро упал минимума отношению доллару последний...</td>\n",
              "      <td>Экономика</td>\n",
              "      <td>Все</td>\n",
              "      <td>2008/10/02</td>\n",
              "    </tr>\n",
              "    <tr>\n",
              "      <th>332891</th>\n",
              "      <td>https://lenta.ru/news/2010/06/04/clear/</td>\n",
              "      <td>Убивший семью бизнесмен признан вменяемым</td>\n",
              "      <td>Застреливший из-за финансовых проблем жену дво...</td>\n",
              "      <td>Россия</td>\n",
              "      <td>Все</td>\n",
              "      <td>2010/06/04</td>\n",
              "    </tr>\n",
              "    <tr>\n",
              "      <th>130388</th>\n",
              "      <td>https://lenta.ru/news/2005/09/15/fradkov/</td>\n",
              "      <td>Фрадкова подали суд невнимание депутатскому за...</td>\n",
              "      <td>Депутат Госдумы Александр Лебедев обратился ми...</td>\n",
              "      <td>Россия</td>\n",
              "      <td>Все</td>\n",
              "      <td>2005/09/15</td>\n",
              "    </tr>\n",
              "    <tr>\n",
              "      <th>738274</th>\n",
              "      <td>https://lenta.ru/news/2018/12/09/mozgovoy_nano...</td>\n",
              "      <td>Американка промыла нос заразилась поедающей мо...</td>\n",
              "      <td>Американка промыла нос водой из-под крана , за...</td>\n",
              "      <td>Из жизни</td>\n",
              "      <td>Происшествия</td>\n",
              "      <td>2018/12/09</td>\n",
              "    </tr>\n",
              "    <tr>\n",
              "      <th>437813</th>\n",
              "      <td>https://lenta.ru/news/2012/10/05/gift1/</td>\n",
              "      <td>Путин подарил Рахмону копию карточки советског...</td>\n",
              "      <td>Президент РФ Владимир Путин , находящийся визи...</td>\n",
              "      <td>Бывший СССР</td>\n",
              "      <td>Все</td>\n",
              "      <td>2012/10/05</td>\n",
              "    </tr>\n",
              "  </tbody>\n",
              "</table>\n",
              "<p>1000 rows × 6 columns</p>\n",
              "</div>\n",
              "    <div class=\"colab-df-buttons\">\n",
              "\n",
              "  <div class=\"colab-df-container\">\n",
              "    <button class=\"colab-df-convert\" onclick=\"convertToInteractive('df-33925a3c-ad7c-42ce-9639-ddf413c36da1')\"\n",
              "            title=\"Convert this dataframe to an interactive table.\"\n",
              "            style=\"display:none;\">\n",
              "\n",
              "  <svg xmlns=\"http://www.w3.org/2000/svg\" height=\"24px\" viewBox=\"0 -960 960 960\">\n",
              "    <path d=\"M120-120v-720h720v720H120Zm60-500h600v-160H180v160Zm220 220h160v-160H400v160Zm0 220h160v-160H400v160ZM180-400h160v-160H180v160Zm440 0h160v-160H620v160ZM180-180h160v-160H180v160Zm440 0h160v-160H620v160Z\"/>\n",
              "  </svg>\n",
              "    </button>\n",
              "\n",
              "  <style>\n",
              "    .colab-df-container {\n",
              "      display:flex;\n",
              "      gap: 12px;\n",
              "    }\n",
              "\n",
              "    .colab-df-convert {\n",
              "      background-color: #E8F0FE;\n",
              "      border: none;\n",
              "      border-radius: 50%;\n",
              "      cursor: pointer;\n",
              "      display: none;\n",
              "      fill: #1967D2;\n",
              "      height: 32px;\n",
              "      padding: 0 0 0 0;\n",
              "      width: 32px;\n",
              "    }\n",
              "\n",
              "    .colab-df-convert:hover {\n",
              "      background-color: #E2EBFA;\n",
              "      box-shadow: 0px 1px 2px rgba(60, 64, 67, 0.3), 0px 1px 3px 1px rgba(60, 64, 67, 0.15);\n",
              "      fill: #174EA6;\n",
              "    }\n",
              "\n",
              "    .colab-df-buttons div {\n",
              "      margin-bottom: 4px;\n",
              "    }\n",
              "\n",
              "    [theme=dark] .colab-df-convert {\n",
              "      background-color: #3B4455;\n",
              "      fill: #D2E3FC;\n",
              "    }\n",
              "\n",
              "    [theme=dark] .colab-df-convert:hover {\n",
              "      background-color: #434B5C;\n",
              "      box-shadow: 0px 1px 3px 1px rgba(0, 0, 0, 0.15);\n",
              "      filter: drop-shadow(0px 1px 2px rgba(0, 0, 0, 0.3));\n",
              "      fill: #FFFFFF;\n",
              "    }\n",
              "  </style>\n",
              "\n",
              "    <script>\n",
              "      const buttonEl =\n",
              "        document.querySelector('#df-33925a3c-ad7c-42ce-9639-ddf413c36da1 button.colab-df-convert');\n",
              "      buttonEl.style.display =\n",
              "        google.colab.kernel.accessAllowed ? 'block' : 'none';\n",
              "\n",
              "      async function convertToInteractive(key) {\n",
              "        const element = document.querySelector('#df-33925a3c-ad7c-42ce-9639-ddf413c36da1');\n",
              "        const dataTable =\n",
              "          await google.colab.kernel.invokeFunction('convertToInteractive',\n",
              "                                                    [key], {});\n",
              "        if (!dataTable) return;\n",
              "\n",
              "        const docLinkHtml = 'Like what you see? Visit the ' +\n",
              "          '<a target=\"_blank\" href=https://colab.research.google.com/notebooks/data_table.ipynb>data table notebook</a>'\n",
              "          + ' to learn more about interactive tables.';\n",
              "        element.innerHTML = '';\n",
              "        dataTable['output_type'] = 'display_data';\n",
              "        await google.colab.output.renderOutput(dataTable, element);\n",
              "        const docLink = document.createElement('div');\n",
              "        docLink.innerHTML = docLinkHtml;\n",
              "        element.appendChild(docLink);\n",
              "      }\n",
              "    </script>\n",
              "  </div>\n",
              "\n",
              "\n",
              "    <div id=\"df-99028f85-d963-44f1-a7e9-7bf86faf7631\">\n",
              "      <button class=\"colab-df-quickchart\" onclick=\"quickchart('df-99028f85-d963-44f1-a7e9-7bf86faf7631')\"\n",
              "                title=\"Suggest charts\"\n",
              "                style=\"display:none;\">\n",
              "\n",
              "<svg xmlns=\"http://www.w3.org/2000/svg\" height=\"24px\"viewBox=\"0 0 24 24\"\n",
              "     width=\"24px\">\n",
              "    <g>\n",
              "        <path d=\"M19 3H5c-1.1 0-2 .9-2 2v14c0 1.1.9 2 2 2h14c1.1 0 2-.9 2-2V5c0-1.1-.9-2-2-2zM9 17H7v-7h2v7zm4 0h-2V7h2v10zm4 0h-2v-4h2v4z\"/>\n",
              "    </g>\n",
              "</svg>\n",
              "      </button>\n",
              "\n",
              "<style>\n",
              "  .colab-df-quickchart {\n",
              "      --bg-color: #E8F0FE;\n",
              "      --fill-color: #1967D2;\n",
              "      --hover-bg-color: #E2EBFA;\n",
              "      --hover-fill-color: #174EA6;\n",
              "      --disabled-fill-color: #AAA;\n",
              "      --disabled-bg-color: #DDD;\n",
              "  }\n",
              "\n",
              "  [theme=dark] .colab-df-quickchart {\n",
              "      --bg-color: #3B4455;\n",
              "      --fill-color: #D2E3FC;\n",
              "      --hover-bg-color: #434B5C;\n",
              "      --hover-fill-color: #FFFFFF;\n",
              "      --disabled-bg-color: #3B4455;\n",
              "      --disabled-fill-color: #666;\n",
              "  }\n",
              "\n",
              "  .colab-df-quickchart {\n",
              "    background-color: var(--bg-color);\n",
              "    border: none;\n",
              "    border-radius: 50%;\n",
              "    cursor: pointer;\n",
              "    display: none;\n",
              "    fill: var(--fill-color);\n",
              "    height: 32px;\n",
              "    padding: 0;\n",
              "    width: 32px;\n",
              "  }\n",
              "\n",
              "  .colab-df-quickchart:hover {\n",
              "    background-color: var(--hover-bg-color);\n",
              "    box-shadow: 0 1px 2px rgba(60, 64, 67, 0.3), 0 1px 3px 1px rgba(60, 64, 67, 0.15);\n",
              "    fill: var(--button-hover-fill-color);\n",
              "  }\n",
              "\n",
              "  .colab-df-quickchart-complete:disabled,\n",
              "  .colab-df-quickchart-complete:disabled:hover {\n",
              "    background-color: var(--disabled-bg-color);\n",
              "    fill: var(--disabled-fill-color);\n",
              "    box-shadow: none;\n",
              "  }\n",
              "\n",
              "  .colab-df-spinner {\n",
              "    border: 2px solid var(--fill-color);\n",
              "    border-color: transparent;\n",
              "    border-bottom-color: var(--fill-color);\n",
              "    animation:\n",
              "      spin 1s steps(1) infinite;\n",
              "  }\n",
              "\n",
              "  @keyframes spin {\n",
              "    0% {\n",
              "      border-color: transparent;\n",
              "      border-bottom-color: var(--fill-color);\n",
              "      border-left-color: var(--fill-color);\n",
              "    }\n",
              "    20% {\n",
              "      border-color: transparent;\n",
              "      border-left-color: var(--fill-color);\n",
              "      border-top-color: var(--fill-color);\n",
              "    }\n",
              "    30% {\n",
              "      border-color: transparent;\n",
              "      border-left-color: var(--fill-color);\n",
              "      border-top-color: var(--fill-color);\n",
              "      border-right-color: var(--fill-color);\n",
              "    }\n",
              "    40% {\n",
              "      border-color: transparent;\n",
              "      border-right-color: var(--fill-color);\n",
              "      border-top-color: var(--fill-color);\n",
              "    }\n",
              "    60% {\n",
              "      border-color: transparent;\n",
              "      border-right-color: var(--fill-color);\n",
              "    }\n",
              "    80% {\n",
              "      border-color: transparent;\n",
              "      border-right-color: var(--fill-color);\n",
              "      border-bottom-color: var(--fill-color);\n",
              "    }\n",
              "    90% {\n",
              "      border-color: transparent;\n",
              "      border-bottom-color: var(--fill-color);\n",
              "    }\n",
              "  }\n",
              "</style>\n",
              "\n",
              "      <script>\n",
              "        async function quickchart(key) {\n",
              "          const quickchartButtonEl =\n",
              "            document.querySelector('#' + key + ' button');\n",
              "          quickchartButtonEl.disabled = true;  // To prevent multiple clicks.\n",
              "          quickchartButtonEl.classList.add('colab-df-spinner');\n",
              "          try {\n",
              "            const charts = await google.colab.kernel.invokeFunction(\n",
              "                'suggestCharts', [key], {});\n",
              "          } catch (error) {\n",
              "            console.error('Error during call to suggestCharts:', error);\n",
              "          }\n",
              "          quickchartButtonEl.classList.remove('colab-df-spinner');\n",
              "          quickchartButtonEl.classList.add('colab-df-quickchart-complete');\n",
              "        }\n",
              "        (() => {\n",
              "          let quickchartButtonEl =\n",
              "            document.querySelector('#df-99028f85-d963-44f1-a7e9-7bf86faf7631 button');\n",
              "          quickchartButtonEl.style.display =\n",
              "            google.colab.kernel.accessAllowed ? 'block' : 'none';\n",
              "        })();\n",
              "      </script>\n",
              "    </div>\n",
              "\n",
              "  <div id=\"id_3dd8cd53-6df8-4c86-838b-4de190c582d7\">\n",
              "    <style>\n",
              "      .colab-df-generate {\n",
              "        background-color: #E8F0FE;\n",
              "        border: none;\n",
              "        border-radius: 50%;\n",
              "        cursor: pointer;\n",
              "        display: none;\n",
              "        fill: #1967D2;\n",
              "        height: 32px;\n",
              "        padding: 0 0 0 0;\n",
              "        width: 32px;\n",
              "      }\n",
              "\n",
              "      .colab-df-generate:hover {\n",
              "        background-color: #E2EBFA;\n",
              "        box-shadow: 0px 1px 2px rgba(60, 64, 67, 0.3), 0px 1px 3px 1px rgba(60, 64, 67, 0.15);\n",
              "        fill: #174EA6;\n",
              "      }\n",
              "\n",
              "      [theme=dark] .colab-df-generate {\n",
              "        background-color: #3B4455;\n",
              "        fill: #D2E3FC;\n",
              "      }\n",
              "\n",
              "      [theme=dark] .colab-df-generate:hover {\n",
              "        background-color: #434B5C;\n",
              "        box-shadow: 0px 1px 3px 1px rgba(0, 0, 0, 0.15);\n",
              "        filter: drop-shadow(0px 1px 2px rgba(0, 0, 0, 0.3));\n",
              "        fill: #FFFFFF;\n",
              "      }\n",
              "    </style>\n",
              "    <button class=\"colab-df-generate\" onclick=\"generateWithVariable('ds_sample')\"\n",
              "            title=\"Generate code using this dataframe.\"\n",
              "            style=\"display:none;\">\n",
              "\n",
              "  <svg xmlns=\"http://www.w3.org/2000/svg\" height=\"24px\"viewBox=\"0 0 24 24\"\n",
              "       width=\"24px\">\n",
              "    <path d=\"M7,19H8.4L18.45,9,17,7.55,7,17.6ZM5,21V16.75L18.45,3.32a2,2,0,0,1,2.83,0l1.4,1.43a1.91,1.91,0,0,1,.58,1.4,1.91,1.91,0,0,1-.58,1.4L9.25,21ZM18.45,9,17,7.55Zm-12,3A5.31,5.31,0,0,0,4.9,8.1,5.31,5.31,0,0,0,1,6.5,5.31,5.31,0,0,0,4.9,4.9,5.31,5.31,0,0,0,6.5,1,5.31,5.31,0,0,0,8.1,4.9,5.31,5.31,0,0,0,12,6.5,5.46,5.46,0,0,0,6.5,12Z\"/>\n",
              "  </svg>\n",
              "    </button>\n",
              "    <script>\n",
              "      (() => {\n",
              "      const buttonEl =\n",
              "        document.querySelector('#id_3dd8cd53-6df8-4c86-838b-4de190c582d7 button.colab-df-generate');\n",
              "      buttonEl.style.display =\n",
              "        google.colab.kernel.accessAllowed ? 'block' : 'none';\n",
              "\n",
              "      buttonEl.onclick = () => {\n",
              "        google.colab.notebook.generateWithVariable('ds_sample');\n",
              "      }\n",
              "      })();\n",
              "    </script>\n",
              "  </div>\n",
              "\n",
              "    </div>\n",
              "  </div>\n"
            ],
            "application/vnd.google.colaboratory.intrinsic+json": {
              "type": "dataframe",
              "variable_name": "ds_sample",
              "repr_error": "0"
            }
          },
          "metadata": {},
          "execution_count": 78
        }
      ]
    }
  ],
  "metadata": {
    "kernelspec": {
      "display_name": "Python 3 (ipykernel)",
      "language": "python",
      "name": "python3"
    },
    "language_info": {
      "codemirror_mode": {
        "name": "ipython",
        "version": 3
      },
      "file_extension": ".py",
      "mimetype": "text/x-python",
      "name": "python",
      "nbconvert_exporter": "python",
      "pygments_lexer": "ipython3",
      "version": "3.12.4"
    },
    "colab": {
      "provenance": []
    },
    "widgets": {
      "application/vnd.jupyter.widget-state+json": {
        "5ca62b8d406f4a76b68342258798970d": {
          "model_module": "@jupyter-widgets/controls",
          "model_name": "HBoxModel",
          "model_module_version": "1.5.0",
          "state": {
            "_dom_classes": [],
            "_model_module": "@jupyter-widgets/controls",
            "_model_module_version": "1.5.0",
            "_model_name": "HBoxModel",
            "_view_count": null,
            "_view_module": "@jupyter-widgets/controls",
            "_view_module_version": "1.5.0",
            "_view_name": "HBoxView",
            "box_style": "",
            "children": [
              "IPY_MODEL_fbd65a922bd74a7ebf81ebc4506c7496",
              "IPY_MODEL_72c02f73548e4157967760de110fb42c",
              "IPY_MODEL_f3b3313da8d24fc3a71b5eb5831d7f20"
            ],
            "layout": "IPY_MODEL_7528a8a9b60d46c98fcc5865e5983edd"
          }
        },
        "fbd65a922bd74a7ebf81ebc4506c7496": {
          "model_module": "@jupyter-widgets/controls",
          "model_name": "HTMLModel",
          "model_module_version": "1.5.0",
          "state": {
            "_dom_classes": [],
            "_model_module": "@jupyter-widgets/controls",
            "_model_module_version": "1.5.0",
            "_model_name": "HTMLModel",
            "_view_count": null,
            "_view_module": "@jupyter-widgets/controls",
            "_view_module_version": "1.5.0",
            "_view_name": "HTMLView",
            "description": "",
            "description_tooltip": null,
            "layout": "IPY_MODEL_6b43df379c0a4619b56931272ae41c2a",
            "placeholder": "​",
            "style": "IPY_MODEL_5cba10d1ed0341998686ac6bb159177e",
            "value": "100%"
          }
        },
        "72c02f73548e4157967760de110fb42c": {
          "model_module": "@jupyter-widgets/controls",
          "model_name": "FloatProgressModel",
          "model_module_version": "1.5.0",
          "state": {
            "_dom_classes": [],
            "_model_module": "@jupyter-widgets/controls",
            "_model_module_version": "1.5.0",
            "_model_name": "FloatProgressModel",
            "_view_count": null,
            "_view_module": "@jupyter-widgets/controls",
            "_view_module_version": "1.5.0",
            "_view_name": "ProgressView",
            "bar_style": "success",
            "description": "",
            "description_tooltip": null,
            "layout": "IPY_MODEL_6a6b5e8baa32453caf26c6d181fb804d",
            "max": 1000,
            "min": 0,
            "orientation": "horizontal",
            "style": "IPY_MODEL_caaf2d9ba58342e59513f42e25165c7d",
            "value": 1000
          }
        },
        "f3b3313da8d24fc3a71b5eb5831d7f20": {
          "model_module": "@jupyter-widgets/controls",
          "model_name": "HTMLModel",
          "model_module_version": "1.5.0",
          "state": {
            "_dom_classes": [],
            "_model_module": "@jupyter-widgets/controls",
            "_model_module_version": "1.5.0",
            "_model_name": "HTMLModel",
            "_view_count": null,
            "_view_module": "@jupyter-widgets/controls",
            "_view_module_version": "1.5.0",
            "_view_name": "HTMLView",
            "description": "",
            "description_tooltip": null,
            "layout": "IPY_MODEL_189da67bd04f48e881b534bc88b06c03",
            "placeholder": "​",
            "style": "IPY_MODEL_04f6efa66af94d448a00ff42149d1a29",
            "value": " 1000/1000 [00:00&lt;00:00, 15860.90it/s]"
          }
        },
        "7528a8a9b60d46c98fcc5865e5983edd": {
          "model_module": "@jupyter-widgets/base",
          "model_name": "LayoutModel",
          "model_module_version": "1.2.0",
          "state": {
            "_model_module": "@jupyter-widgets/base",
            "_model_module_version": "1.2.0",
            "_model_name": "LayoutModel",
            "_view_count": null,
            "_view_module": "@jupyter-widgets/base",
            "_view_module_version": "1.2.0",
            "_view_name": "LayoutView",
            "align_content": null,
            "align_items": null,
            "align_self": null,
            "border": null,
            "bottom": null,
            "display": null,
            "flex": null,
            "flex_flow": null,
            "grid_area": null,
            "grid_auto_columns": null,
            "grid_auto_flow": null,
            "grid_auto_rows": null,
            "grid_column": null,
            "grid_gap": null,
            "grid_row": null,
            "grid_template_areas": null,
            "grid_template_columns": null,
            "grid_template_rows": null,
            "height": null,
            "justify_content": null,
            "justify_items": null,
            "left": null,
            "margin": null,
            "max_height": null,
            "max_width": null,
            "min_height": null,
            "min_width": null,
            "object_fit": null,
            "object_position": null,
            "order": null,
            "overflow": null,
            "overflow_x": null,
            "overflow_y": null,
            "padding": null,
            "right": null,
            "top": null,
            "visibility": null,
            "width": null
          }
        },
        "6b43df379c0a4619b56931272ae41c2a": {
          "model_module": "@jupyter-widgets/base",
          "model_name": "LayoutModel",
          "model_module_version": "1.2.0",
          "state": {
            "_model_module": "@jupyter-widgets/base",
            "_model_module_version": "1.2.0",
            "_model_name": "LayoutModel",
            "_view_count": null,
            "_view_module": "@jupyter-widgets/base",
            "_view_module_version": "1.2.0",
            "_view_name": "LayoutView",
            "align_content": null,
            "align_items": null,
            "align_self": null,
            "border": null,
            "bottom": null,
            "display": null,
            "flex": null,
            "flex_flow": null,
            "grid_area": null,
            "grid_auto_columns": null,
            "grid_auto_flow": null,
            "grid_auto_rows": null,
            "grid_column": null,
            "grid_gap": null,
            "grid_row": null,
            "grid_template_areas": null,
            "grid_template_columns": null,
            "grid_template_rows": null,
            "height": null,
            "justify_content": null,
            "justify_items": null,
            "left": null,
            "margin": null,
            "max_height": null,
            "max_width": null,
            "min_height": null,
            "min_width": null,
            "object_fit": null,
            "object_position": null,
            "order": null,
            "overflow": null,
            "overflow_x": null,
            "overflow_y": null,
            "padding": null,
            "right": null,
            "top": null,
            "visibility": null,
            "width": null
          }
        },
        "5cba10d1ed0341998686ac6bb159177e": {
          "model_module": "@jupyter-widgets/controls",
          "model_name": "DescriptionStyleModel",
          "model_module_version": "1.5.0",
          "state": {
            "_model_module": "@jupyter-widgets/controls",
            "_model_module_version": "1.5.0",
            "_model_name": "DescriptionStyleModel",
            "_view_count": null,
            "_view_module": "@jupyter-widgets/base",
            "_view_module_version": "1.2.0",
            "_view_name": "StyleView",
            "description_width": ""
          }
        },
        "6a6b5e8baa32453caf26c6d181fb804d": {
          "model_module": "@jupyter-widgets/base",
          "model_name": "LayoutModel",
          "model_module_version": "1.2.0",
          "state": {
            "_model_module": "@jupyter-widgets/base",
            "_model_module_version": "1.2.0",
            "_model_name": "LayoutModel",
            "_view_count": null,
            "_view_module": "@jupyter-widgets/base",
            "_view_module_version": "1.2.0",
            "_view_name": "LayoutView",
            "align_content": null,
            "align_items": null,
            "align_self": null,
            "border": null,
            "bottom": null,
            "display": null,
            "flex": null,
            "flex_flow": null,
            "grid_area": null,
            "grid_auto_columns": null,
            "grid_auto_flow": null,
            "grid_auto_rows": null,
            "grid_column": null,
            "grid_gap": null,
            "grid_row": null,
            "grid_template_areas": null,
            "grid_template_columns": null,
            "grid_template_rows": null,
            "height": null,
            "justify_content": null,
            "justify_items": null,
            "left": null,
            "margin": null,
            "max_height": null,
            "max_width": null,
            "min_height": null,
            "min_width": null,
            "object_fit": null,
            "object_position": null,
            "order": null,
            "overflow": null,
            "overflow_x": null,
            "overflow_y": null,
            "padding": null,
            "right": null,
            "top": null,
            "visibility": null,
            "width": null
          }
        },
        "caaf2d9ba58342e59513f42e25165c7d": {
          "model_module": "@jupyter-widgets/controls",
          "model_name": "ProgressStyleModel",
          "model_module_version": "1.5.0",
          "state": {
            "_model_module": "@jupyter-widgets/controls",
            "_model_module_version": "1.5.0",
            "_model_name": "ProgressStyleModel",
            "_view_count": null,
            "_view_module": "@jupyter-widgets/base",
            "_view_module_version": "1.2.0",
            "_view_name": "StyleView",
            "bar_color": null,
            "description_width": ""
          }
        },
        "189da67bd04f48e881b534bc88b06c03": {
          "model_module": "@jupyter-widgets/base",
          "model_name": "LayoutModel",
          "model_module_version": "1.2.0",
          "state": {
            "_model_module": "@jupyter-widgets/base",
            "_model_module_version": "1.2.0",
            "_model_name": "LayoutModel",
            "_view_count": null,
            "_view_module": "@jupyter-widgets/base",
            "_view_module_version": "1.2.0",
            "_view_name": "LayoutView",
            "align_content": null,
            "align_items": null,
            "align_self": null,
            "border": null,
            "bottom": null,
            "display": null,
            "flex": null,
            "flex_flow": null,
            "grid_area": null,
            "grid_auto_columns": null,
            "grid_auto_flow": null,
            "grid_auto_rows": null,
            "grid_column": null,
            "grid_gap": null,
            "grid_row": null,
            "grid_template_areas": null,
            "grid_template_columns": null,
            "grid_template_rows": null,
            "height": null,
            "justify_content": null,
            "justify_items": null,
            "left": null,
            "margin": null,
            "max_height": null,
            "max_width": null,
            "min_height": null,
            "min_width": null,
            "object_fit": null,
            "object_position": null,
            "order": null,
            "overflow": null,
            "overflow_x": null,
            "overflow_y": null,
            "padding": null,
            "right": null,
            "top": null,
            "visibility": null,
            "width": null
          }
        },
        "04f6efa66af94d448a00ff42149d1a29": {
          "model_module": "@jupyter-widgets/controls",
          "model_name": "DescriptionStyleModel",
          "model_module_version": "1.5.0",
          "state": {
            "_model_module": "@jupyter-widgets/controls",
            "_model_module_version": "1.5.0",
            "_model_name": "DescriptionStyleModel",
            "_view_count": null,
            "_view_module": "@jupyter-widgets/base",
            "_view_module_version": "1.2.0",
            "_view_name": "StyleView",
            "description_width": ""
          }
        },
        "d77c8380073742e5aafbef419ba06dc5": {
          "model_module": "@jupyter-widgets/controls",
          "model_name": "HBoxModel",
          "model_module_version": "1.5.0",
          "state": {
            "_dom_classes": [],
            "_model_module": "@jupyter-widgets/controls",
            "_model_module_version": "1.5.0",
            "_model_name": "HBoxModel",
            "_view_count": null,
            "_view_module": "@jupyter-widgets/controls",
            "_view_module_version": "1.5.0",
            "_view_name": "HBoxView",
            "box_style": "",
            "children": [
              "IPY_MODEL_4c6ea86906f54be0800cfd3ead509630",
              "IPY_MODEL_a9605b6785724aa199fb1ed6741ebe78",
              "IPY_MODEL_75d0c0a6c96249c7b7737777936b7afc"
            ],
            "layout": "IPY_MODEL_052faa70796d4ec3b19a6d67b3e20563"
          }
        },
        "4c6ea86906f54be0800cfd3ead509630": {
          "model_module": "@jupyter-widgets/controls",
          "model_name": "HTMLModel",
          "model_module_version": "1.5.0",
          "state": {
            "_dom_classes": [],
            "_model_module": "@jupyter-widgets/controls",
            "_model_module_version": "1.5.0",
            "_model_name": "HTMLModel",
            "_view_count": null,
            "_view_module": "@jupyter-widgets/controls",
            "_view_module_version": "1.5.0",
            "_view_name": "HTMLView",
            "description": "",
            "description_tooltip": null,
            "layout": "IPY_MODEL_a9f6545d25104e5bbe50bed860074483",
            "placeholder": "​",
            "style": "IPY_MODEL_1620b2a71a6d43fdac6c87bae699b476",
            "value": "100%"
          }
        },
        "a9605b6785724aa199fb1ed6741ebe78": {
          "model_module": "@jupyter-widgets/controls",
          "model_name": "FloatProgressModel",
          "model_module_version": "1.5.0",
          "state": {
            "_dom_classes": [],
            "_model_module": "@jupyter-widgets/controls",
            "_model_module_version": "1.5.0",
            "_model_name": "FloatProgressModel",
            "_view_count": null,
            "_view_module": "@jupyter-widgets/controls",
            "_view_module_version": "1.5.0",
            "_view_name": "ProgressView",
            "bar_style": "success",
            "description": "",
            "description_tooltip": null,
            "layout": "IPY_MODEL_f4362f534b5043ecbd76ec2a260f454c",
            "max": 1000,
            "min": 0,
            "orientation": "horizontal",
            "style": "IPY_MODEL_50e37d6b5722480a88e92ca8b105c266",
            "value": 1000
          }
        },
        "75d0c0a6c96249c7b7737777936b7afc": {
          "model_module": "@jupyter-widgets/controls",
          "model_name": "HTMLModel",
          "model_module_version": "1.5.0",
          "state": {
            "_dom_classes": [],
            "_model_module": "@jupyter-widgets/controls",
            "_model_module_version": "1.5.0",
            "_model_name": "HTMLModel",
            "_view_count": null,
            "_view_module": "@jupyter-widgets/controls",
            "_view_module_version": "1.5.0",
            "_view_name": "HTMLView",
            "description": "",
            "description_tooltip": null,
            "layout": "IPY_MODEL_aa77cf5d396f4d2a867578047e400061",
            "placeholder": "​",
            "style": "IPY_MODEL_ba73212d0eb046d49689b219822a4d66",
            "value": " 1000/1000 [00:00&lt;00:00, 23817.33it/s]"
          }
        },
        "052faa70796d4ec3b19a6d67b3e20563": {
          "model_module": "@jupyter-widgets/base",
          "model_name": "LayoutModel",
          "model_module_version": "1.2.0",
          "state": {
            "_model_module": "@jupyter-widgets/base",
            "_model_module_version": "1.2.0",
            "_model_name": "LayoutModel",
            "_view_count": null,
            "_view_module": "@jupyter-widgets/base",
            "_view_module_version": "1.2.0",
            "_view_name": "LayoutView",
            "align_content": null,
            "align_items": null,
            "align_self": null,
            "border": null,
            "bottom": null,
            "display": null,
            "flex": null,
            "flex_flow": null,
            "grid_area": null,
            "grid_auto_columns": null,
            "grid_auto_flow": null,
            "grid_auto_rows": null,
            "grid_column": null,
            "grid_gap": null,
            "grid_row": null,
            "grid_template_areas": null,
            "grid_template_columns": null,
            "grid_template_rows": null,
            "height": null,
            "justify_content": null,
            "justify_items": null,
            "left": null,
            "margin": null,
            "max_height": null,
            "max_width": null,
            "min_height": null,
            "min_width": null,
            "object_fit": null,
            "object_position": null,
            "order": null,
            "overflow": null,
            "overflow_x": null,
            "overflow_y": null,
            "padding": null,
            "right": null,
            "top": null,
            "visibility": null,
            "width": null
          }
        },
        "a9f6545d25104e5bbe50bed860074483": {
          "model_module": "@jupyter-widgets/base",
          "model_name": "LayoutModel",
          "model_module_version": "1.2.0",
          "state": {
            "_model_module": "@jupyter-widgets/base",
            "_model_module_version": "1.2.0",
            "_model_name": "LayoutModel",
            "_view_count": null,
            "_view_module": "@jupyter-widgets/base",
            "_view_module_version": "1.2.0",
            "_view_name": "LayoutView",
            "align_content": null,
            "align_items": null,
            "align_self": null,
            "border": null,
            "bottom": null,
            "display": null,
            "flex": null,
            "flex_flow": null,
            "grid_area": null,
            "grid_auto_columns": null,
            "grid_auto_flow": null,
            "grid_auto_rows": null,
            "grid_column": null,
            "grid_gap": null,
            "grid_row": null,
            "grid_template_areas": null,
            "grid_template_columns": null,
            "grid_template_rows": null,
            "height": null,
            "justify_content": null,
            "justify_items": null,
            "left": null,
            "margin": null,
            "max_height": null,
            "max_width": null,
            "min_height": null,
            "min_width": null,
            "object_fit": null,
            "object_position": null,
            "order": null,
            "overflow": null,
            "overflow_x": null,
            "overflow_y": null,
            "padding": null,
            "right": null,
            "top": null,
            "visibility": null,
            "width": null
          }
        },
        "1620b2a71a6d43fdac6c87bae699b476": {
          "model_module": "@jupyter-widgets/controls",
          "model_name": "DescriptionStyleModel",
          "model_module_version": "1.5.0",
          "state": {
            "_model_module": "@jupyter-widgets/controls",
            "_model_module_version": "1.5.0",
            "_model_name": "DescriptionStyleModel",
            "_view_count": null,
            "_view_module": "@jupyter-widgets/base",
            "_view_module_version": "1.2.0",
            "_view_name": "StyleView",
            "description_width": ""
          }
        },
        "f4362f534b5043ecbd76ec2a260f454c": {
          "model_module": "@jupyter-widgets/base",
          "model_name": "LayoutModel",
          "model_module_version": "1.2.0",
          "state": {
            "_model_module": "@jupyter-widgets/base",
            "_model_module_version": "1.2.0",
            "_model_name": "LayoutModel",
            "_view_count": null,
            "_view_module": "@jupyter-widgets/base",
            "_view_module_version": "1.2.0",
            "_view_name": "LayoutView",
            "align_content": null,
            "align_items": null,
            "align_self": null,
            "border": null,
            "bottom": null,
            "display": null,
            "flex": null,
            "flex_flow": null,
            "grid_area": null,
            "grid_auto_columns": null,
            "grid_auto_flow": null,
            "grid_auto_rows": null,
            "grid_column": null,
            "grid_gap": null,
            "grid_row": null,
            "grid_template_areas": null,
            "grid_template_columns": null,
            "grid_template_rows": null,
            "height": null,
            "justify_content": null,
            "justify_items": null,
            "left": null,
            "margin": null,
            "max_height": null,
            "max_width": null,
            "min_height": null,
            "min_width": null,
            "object_fit": null,
            "object_position": null,
            "order": null,
            "overflow": null,
            "overflow_x": null,
            "overflow_y": null,
            "padding": null,
            "right": null,
            "top": null,
            "visibility": null,
            "width": null
          }
        },
        "50e37d6b5722480a88e92ca8b105c266": {
          "model_module": "@jupyter-widgets/controls",
          "model_name": "ProgressStyleModel",
          "model_module_version": "1.5.0",
          "state": {
            "_model_module": "@jupyter-widgets/controls",
            "_model_module_version": "1.5.0",
            "_model_name": "ProgressStyleModel",
            "_view_count": null,
            "_view_module": "@jupyter-widgets/base",
            "_view_module_version": "1.2.0",
            "_view_name": "StyleView",
            "bar_color": null,
            "description_width": ""
          }
        },
        "aa77cf5d396f4d2a867578047e400061": {
          "model_module": "@jupyter-widgets/base",
          "model_name": "LayoutModel",
          "model_module_version": "1.2.0",
          "state": {
            "_model_module": "@jupyter-widgets/base",
            "_model_module_version": "1.2.0",
            "_model_name": "LayoutModel",
            "_view_count": null,
            "_view_module": "@jupyter-widgets/base",
            "_view_module_version": "1.2.0",
            "_view_name": "LayoutView",
            "align_content": null,
            "align_items": null,
            "align_self": null,
            "border": null,
            "bottom": null,
            "display": null,
            "flex": null,
            "flex_flow": null,
            "grid_area": null,
            "grid_auto_columns": null,
            "grid_auto_flow": null,
            "grid_auto_rows": null,
            "grid_column": null,
            "grid_gap": null,
            "grid_row": null,
            "grid_template_areas": null,
            "grid_template_columns": null,
            "grid_template_rows": null,
            "height": null,
            "justify_content": null,
            "justify_items": null,
            "left": null,
            "margin": null,
            "max_height": null,
            "max_width": null,
            "min_height": null,
            "min_width": null,
            "object_fit": null,
            "object_position": null,
            "order": null,
            "overflow": null,
            "overflow_x": null,
            "overflow_y": null,
            "padding": null,
            "right": null,
            "top": null,
            "visibility": null,
            "width": null
          }
        },
        "ba73212d0eb046d49689b219822a4d66": {
          "model_module": "@jupyter-widgets/controls",
          "model_name": "DescriptionStyleModel",
          "model_module_version": "1.5.0",
          "state": {
            "_model_module": "@jupyter-widgets/controls",
            "_model_module_version": "1.5.0",
            "_model_name": "DescriptionStyleModel",
            "_view_count": null,
            "_view_module": "@jupyter-widgets/base",
            "_view_module_version": "1.2.0",
            "_view_name": "StyleView",
            "description_width": ""
          }
        }
      }
    }
  },
  "nbformat": 4,
  "nbformat_minor": 0
}