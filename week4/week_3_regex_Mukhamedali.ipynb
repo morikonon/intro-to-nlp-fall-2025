{
  "cells": [
    {
      "cell_type": "markdown",
      "metadata": {
        "id": "6B4tsg-ETi__"
      },
      "source": [
        "# Regex"
      ]
    },
    {
      "cell_type": "markdown",
      "metadata": {
        "id": "QJgcsTXCTjAA"
      },
      "source": [
        "In this lesson, we'll learn about a useful tool in the NLP toolkit: regex.\n",
        "\n",
        "Let's consider two motivating examples:\n",
        "\n",
        "#### 1. The phone number problem\n",
        "\n",
        "Suppose we are given some data that includes phone numbers:\n",
        "\n",
        "123-456-7890\n",
        "\n",
        "123 456 7890\n",
        "\n",
        "101 Howard\n",
        "\n",
        "Some of the phone numbers have different formats (hyphens, no hyphens).  Also, there are some errors in the data-- 101 Howard isn't a phon number!  How can we find all the phone numbers?\n",
        "\n",
        "#### 2. Creating our own tokens\n",
        "\n",
        "In the previous lessons, we used sklearn or fastai to tokenize our text.  What if we want to do it ourselves?"
      ]
    },
    {
      "cell_type": "markdown",
      "metadata": {
        "id": "e6lHRAVETjAB"
      },
      "source": [
        "## The phone number problem"
      ]
    },
    {
      "cell_type": "markdown",
      "metadata": {
        "id": "AsfxrZ5HTjAB"
      },
      "source": [
        "Suppose we are given some data that includes phone numbers:\n",
        "\n",
        "123-456-7890\n",
        "\n",
        "123 456 7890\n",
        "\n",
        "(123)456-7890\n",
        "\n",
        "101 Howard\n",
        "\n",
        "Some of the phone numbers have different formats (hyphens, no hyphens, parentheses).  Also, there are some errors in the data-- 101 Howard isn't a phone number!  How can we find all the phone numbers?"
      ]
    },
    {
      "cell_type": "markdown",
      "metadata": {
        "id": "cDkP2CG8TjAB"
      },
      "source": [
        "We will attempt this without regex, but will see that this quickly leads to lot of if/else branching statements and isn't a veyr promising approach:"
      ]
    },
    {
      "cell_type": "markdown",
      "metadata": {
        "id": "Vga0uhUkTjAC"
      },
      "source": [
        "### Attempt 1 (without regex)"
      ]
    },
    {
      "cell_type": "code",
      "execution_count": 1,
      "metadata": {
        "id": "67OYaCBeTjAC"
      },
      "outputs": [],
      "source": [
        "import string"
      ]
    },
    {
      "cell_type": "code",
      "execution_count": 2,
      "metadata": {
        "id": "pwu7RV_FTjAC"
      },
      "outputs": [],
      "source": [
        "phone1 = \"123-456-7890\"\n",
        "\n",
        "phone2 = \"123 456 7890\"\n",
        "\n",
        "not_phone1 = \"101 Howard\""
      ]
    },
    {
      "cell_type": "code",
      "execution_count": 3,
      "metadata": {
        "colab": {
          "base_uri": "https://localhost:8080/",
          "height": 56
        },
        "id": "-wv-0vCNTjAD",
        "outputId": "5e1f835c-5588-41ee-8458-a4929abb10c3"
      },
      "outputs": [
        {
          "output_type": "execute_result",
          "data": {
            "text/plain": [
              "'0123456789'"
            ],
            "application/vnd.google.colaboratory.intrinsic+json": {
              "type": "string"
            }
          },
          "metadata": {},
          "execution_count": 3
        }
      ],
      "source": [
        "string.digits"
      ]
    },
    {
      "cell_type": "code",
      "execution_count": 4,
      "metadata": {
        "id": "6j4ylTwgTjAD"
      },
      "outputs": [],
      "source": [
        "def check_phone(inp):\n",
        "    valid_chars = string.digits + ' -()'\n",
        "    for char in inp:\n",
        "        if char not in valid_chars:\n",
        "            return False\n",
        "    return True"
      ]
    },
    {
      "cell_type": "code",
      "source": [
        "number = \"+7(707)4606925\""
      ],
      "metadata": {
        "id": "1xarF5EJFCTF"
      },
      "execution_count": 5,
      "outputs": []
    },
    {
      "cell_type": "code",
      "source": [
        "def phone(number):\n",
        "  valid_chars = string.digits + ' -+()'\n",
        "  for char in number:\n",
        "    if char not in valid_chars:\n",
        "      return False\n",
        "  return True"
      ],
      "metadata": {
        "id": "w0SqEjM7FHB6"
      },
      "execution_count": 6,
      "outputs": []
    },
    {
      "cell_type": "code",
      "source": [
        "phone(number)"
      ],
      "metadata": {
        "colab": {
          "base_uri": "https://localhost:8080/"
        },
        "id": "agm4ALmQFSOV",
        "outputId": "aaec4da0-a8ae-4594-b6ce-736176e9189a"
      },
      "execution_count": 7,
      "outputs": [
        {
          "output_type": "execute_result",
          "data": {
            "text/plain": [
              "True"
            ]
          },
          "metadata": {},
          "execution_count": 7
        }
      ]
    },
    {
      "cell_type": "code",
      "execution_count": 8,
      "metadata": {
        "id": "xEfP4jGWTjAD"
      },
      "outputs": [],
      "source": [
        "assert(check_phone(phone1))\n",
        "assert(check_phone(phone2))\n",
        "assert(not check_phone(not_phone1))"
      ]
    },
    {
      "cell_type": "markdown",
      "metadata": {
        "id": "eE6-4BZRTjAD"
      },
      "source": [
        "### Attempt 2  (without regex)"
      ]
    },
    {
      "cell_type": "code",
      "execution_count": 9,
      "metadata": {
        "id": "waJmmQSdTjAE"
      },
      "outputs": [],
      "source": [
        "not_phone2 = \"1234\""
      ]
    },
    {
      "cell_type": "code",
      "execution_count": 10,
      "metadata": {
        "colab": {
          "base_uri": "https://localhost:8080/",
          "height": 157
        },
        "id": "ENHfMccETjAE",
        "outputId": "9e9682f1-60fc-4d60-b62e-94effd828c51"
      },
      "outputs": [
        {
          "output_type": "error",
          "ename": "AssertionError",
          "evalue": "",
          "traceback": [
            "\u001b[0;31m---------------------------------------------------------------------------\u001b[0m",
            "\u001b[0;31mAssertionError\u001b[0m                            Traceback (most recent call last)",
            "\u001b[0;32m/tmp/ipython-input-369389104.py\u001b[0m in \u001b[0;36m<cell line: 0>\u001b[0;34m()\u001b[0m\n\u001b[0;32m----> 1\u001b[0;31m \u001b[0;32massert\u001b[0m\u001b[0;34m(\u001b[0m\u001b[0;32mnot\u001b[0m \u001b[0mcheck_phone\u001b[0m\u001b[0;34m(\u001b[0m\u001b[0mnot_phone2\u001b[0m\u001b[0;34m)\u001b[0m\u001b[0;34m)\u001b[0m\u001b[0;34m\u001b[0m\u001b[0;34m\u001b[0m\u001b[0m\n\u001b[0m",
            "\u001b[0;31mAssertionError\u001b[0m: "
          ]
        }
      ],
      "source": [
        "assert(not check_phone(not_phone2))"
      ]
    },
    {
      "cell_type": "code",
      "execution_count": 11,
      "metadata": {
        "id": "uRqpu8yUTjAE"
      },
      "outputs": [],
      "source": [
        "def check_phone(inp):\n",
        "    nums = string.digits\n",
        "    valid_chars = nums + ' -()*'\n",
        "    num_counter = 0\n",
        "    for char in inp:\n",
        "        if char not in valid_chars:\n",
        "            return False\n",
        "        if char in nums:\n",
        "            num_counter += 1\n",
        "    if num_counter==10:\n",
        "        return True\n",
        "    else:\n",
        "        return False"
      ]
    },
    {
      "cell_type": "code",
      "execution_count": 12,
      "metadata": {
        "id": "9jxRSIT3TjAE"
      },
      "outputs": [],
      "source": [
        "assert(check_phone(phone1))\n",
        "assert(check_phone(phone2))\n",
        "assert(not check_phone(not_phone1))\n",
        "assert(not check_phone(not_phone2))"
      ]
    },
    {
      "cell_type": "code",
      "execution_count": 13,
      "metadata": {
        "id": "Qnl3LLZ7TjAF"
      },
      "outputs": [],
      "source": [
        "phone3 = \"123456-7890*\""
      ]
    },
    {
      "cell_type": "code",
      "execution_count": 14,
      "metadata": {
        "id": "5WkzUyTHTjAF"
      },
      "outputs": [],
      "source": [
        "assert(check_phone(phone3))"
      ]
    },
    {
      "cell_type": "markdown",
      "metadata": {
        "id": "ZgDMJD12TjAF"
      },
      "source": [
        "### Attempt 3  (without regex)"
      ]
    },
    {
      "cell_type": "markdown",
      "metadata": {
        "id": "ahmEvQKYTjAF"
      },
      "source": [
        "But we also need to extract the digits!"
      ]
    },
    {
      "cell_type": "markdown",
      "metadata": {
        "id": "EXRc8jI2TjAG"
      },
      "source": [
        "Also, what about:\n",
        "\n",
        "34!NA5098gn#213ee2"
      ]
    },
    {
      "cell_type": "code",
      "execution_count": 15,
      "metadata": {
        "colab": {
          "base_uri": "https://localhost:8080/",
          "height": 190
        },
        "id": "Xn8qvGdCTjAG",
        "outputId": "688157f1-d4e5-48f9-8131-5317fb099be6"
      },
      "outputs": [
        {
          "output_type": "error",
          "ename": "AssertionError",
          "evalue": "",
          "traceback": [
            "\u001b[0;31m---------------------------------------------------------------------------\u001b[0m",
            "\u001b[0;31mAssertionError\u001b[0m                            Traceback (most recent call last)",
            "\u001b[0;32m/tmp/ipython-input-3253287784.py\u001b[0m in \u001b[0;36m<cell line: 0>\u001b[0;34m()\u001b[0m\n\u001b[1;32m      1\u001b[0m \u001b[0mnot_phone3\u001b[0m \u001b[0;34m=\u001b[0m \u001b[0;34m\"34 50 98 21 32\"\u001b[0m\u001b[0;34m\u001b[0m\u001b[0;34m\u001b[0m\u001b[0m\n\u001b[1;32m      2\u001b[0m \u001b[0mnot_phone4\u001b[0m \u001b[0;34m=\u001b[0m \u001b[0;34m\"34!NA5098gn#213ee2\"\u001b[0m\u001b[0;34m\u001b[0m\u001b[0;34m\u001b[0m\u001b[0m\n\u001b[0;32m----> 3\u001b[0;31m \u001b[0;32massert\u001b[0m\u001b[0;34m(\u001b[0m\u001b[0;32mnot\u001b[0m \u001b[0mcheck_phone\u001b[0m\u001b[0;34m(\u001b[0m\u001b[0mnot_phone3\u001b[0m\u001b[0;34m)\u001b[0m\u001b[0;34m)\u001b[0m\u001b[0;34m\u001b[0m\u001b[0;34m\u001b[0m\u001b[0m\n\u001b[0m",
            "\u001b[0;31mAssertionError\u001b[0m: "
          ]
        }
      ],
      "source": [
        "not_phone3 = \"34 50 98 21 32\"\n",
        "not_phone4 = \"34!NA5098gn#213ee2\"\n",
        "assert(not check_phone(not_phone3))\n"
      ]
    },
    {
      "cell_type": "code",
      "execution_count": 16,
      "metadata": {
        "id": "cnDSEufeTjAG"
      },
      "outputs": [],
      "source": [
        "assert(not check_phone(not_phone4))"
      ]
    },
    {
      "cell_type": "code",
      "execution_count": 17,
      "metadata": {
        "colab": {
          "base_uri": "https://localhost:8080/",
          "height": 190
        },
        "id": "iclTZ16KTjAG",
        "outputId": "01f3be3d-f774-41a5-8336-bbe446d24b26"
      },
      "outputs": [
        {
          "output_type": "error",
          "ename": "AssertionError",
          "evalue": "",
          "traceback": [
            "\u001b[0;31m---------------------------------------------------------------------------\u001b[0m",
            "\u001b[0;31mAssertionError\u001b[0m                            Traceback (most recent call last)",
            "\u001b[0;32m/tmp/ipython-input-238787083.py\u001b[0m in \u001b[0;36m<cell line: 0>\u001b[0;34m()\u001b[0m\n\u001b[1;32m      1\u001b[0m \u001b[0mnot_phone4\u001b[0m \u001b[0;34m=\u001b[0m \u001b[0;34m\"(34)(50)()()982132\"\u001b[0m\u001b[0;34m\u001b[0m\u001b[0;34m\u001b[0m\u001b[0m\n\u001b[1;32m      2\u001b[0m \u001b[0;34m\u001b[0m\u001b[0m\n\u001b[0;32m----> 3\u001b[0;31m \u001b[0;32massert\u001b[0m\u001b[0;34m(\u001b[0m\u001b[0;32mnot\u001b[0m \u001b[0mcheck_phone\u001b[0m\u001b[0;34m(\u001b[0m\u001b[0mnot_phone3\u001b[0m\u001b[0;34m)\u001b[0m\u001b[0;34m)\u001b[0m\u001b[0;34m\u001b[0m\u001b[0;34m\u001b[0m\u001b[0m\n\u001b[0m",
            "\u001b[0;31mAssertionError\u001b[0m: "
          ]
        }
      ],
      "source": [
        "not_phone4 = \"(34)(50)()()982132\"\n",
        "\n",
        "assert(not check_phone(not_phone3))"
      ]
    },
    {
      "cell_type": "markdown",
      "metadata": {
        "id": "zZoDTwagTjAG"
      },
      "source": [
        "This is getting increasingly unwieldy.  We need a different approach."
      ]
    },
    {
      "cell_type": "markdown",
      "metadata": {
        "id": "xSkdwAn3TjAG"
      },
      "source": [
        "## Introducing regex"
      ]
    },
    {
      "cell_type": "markdown",
      "metadata": {
        "id": "VYAGwI_iTjAG"
      },
      "source": [
        "Useful regex resources:\n",
        "\n",
        "- https://regexr.com/\n",
        "- http://callumacrae.github.io/regex-tuesday/\n",
        "- https://regexone.com/"
      ]
    },
    {
      "cell_type": "markdown",
      "metadata": {
        "id": "BuyEaQQ9TjAH"
      },
      "source": [
        "**Best practice: Be as specific as possible.**"
      ]
    },
    {
      "cell_type": "markdown",
      "metadata": {
        "id": "6aH6ifGiTjAH"
      },
      "source": [
        "Parts of the following section were adapted from Brian Spiering, who taught the MSDS [NLP elective last summer](https://github.com/brianspiering/nlp-course)."
      ]
    },
    {
      "cell_type": "markdown",
      "metadata": {
        "heading_collapsed": true,
        "id": "spgWFQrbTjAH"
      },
      "source": [
        "### What is regex?\n",
        "\n",
        "Regular expressions is a pattern matching language.\n",
        "\n",
        "Instead of writing `0 1 2 3 4 5 6 7 8 9`, you can write `[0-9]` or `\\d`"
      ]
    },
    {
      "cell_type": "markdown",
      "metadata": {
        "hidden": true,
        "id": "uuyhsNsITjAH"
      },
      "source": [
        "It is Domain Specific Language (DSL). Powerful (but limited language).\n",
        "\n",
        "**What other DSLs do you already know?**\n",
        "- SQL  \n",
        "- Markdown\n",
        "- TensorFlow"
      ]
    },
    {
      "cell_type": "markdown",
      "metadata": {
        "id": "3lxuqz-eTjAH"
      },
      "source": [
        "### Matching Phone Numbers (The \"Hello, world!\" of Regex)"
      ]
    },
    {
      "cell_type": "markdown",
      "metadata": {
        "id": "L4GPwKLnTjAH"
      },
      "source": [
        "`[0-9][0-9][0-9]-[0-9][0-9][0-9]-[0-9][0-9][0-9][0-9]` matches US telephone number."
      ]
    },
    {
      "cell_type": "markdown",
      "metadata": {
        "id": "wLCuMPDzTjAH"
      },
      "source": [
        "Refactored: `\\d\\d\\d-\\d\\d\\d-\\d\\d\\d\\d`\n",
        "\n",
        "A **metacharacter** is one or more special characters that have a unique meaning and are NOT used as literals in the search expression. For example \"\\d\" means any digit.\n",
        "\n",
        "**Metacharacters are the special sauce of regex.**"
      ]
    },
    {
      "cell_type": "markdown",
      "metadata": {
        "id": "0Pg_R9BsTjAH"
      },
      "source": [
        "\n",
        "\n",
        "Quantifiers\n",
        "-----\n",
        "\n",
        "Allow you to specify how many times the preceding expression should match.\n",
        "\n",
        "`{}` is an extact qualifer\n",
        "\n",
        "Refactored: `\\d{3}-\\d{3}-\\d{4}`"
      ]
    },
    {
      "cell_type": "markdown",
      "metadata": {
        "id": "qK8OnelTTjAH"
      },
      "source": [
        "Unexact quantifiers\n",
        "-----\n",
        "\n",
        "1. `?` question mark - zero or one\n",
        "2. `*` star - zero or more\n",
        "3. `+` plus sign - one or more |"
      ]
    },
    {
      "cell_type": "markdown",
      "metadata": {
        "id": "Lk4xrkMkTjAH"
      },
      "source": [
        "### Regex can look really weird, since it's so concise"
      ]
    },
    {
      "cell_type": "markdown",
      "metadata": {
        "id": "Cy9OXSEuTjAH"
      },
      "source": [
        "The best (only?) way to learn it is through practice.  Otherwise, you feel like you're just reading lists of rules.\n",
        "\n",
        "Let's take 15 minutes to begin working through the lessons on [regexone](https://regexone.com/)."
      ]
    },
    {
      "cell_type": "markdown",
      "metadata": {
        "id": "wrVhbrZjTjAH"
      },
      "source": [
        "**Reminder: Be as specific as possible!**"
      ]
    },
    {
      "cell_type": "markdown",
      "metadata": {
        "id": "dWAuQxxtTjAI"
      },
      "source": [
        "### Pros & Cons of Regex"
      ]
    },
    {
      "cell_type": "markdown",
      "metadata": {
        "id": "yuV9UD9TTjAI"
      },
      "source": [
        "**What are the advantages of regex?**\n",
        "\n",
        "1. Concise and powerful pattern matching DSL\n",
        "2. Supported by many computer languages, including SQL"
      ]
    },
    {
      "cell_type": "markdown",
      "metadata": {
        "id": "L1IuD9UfTjAI"
      },
      "source": [
        "**What are the disadvantages of regex?**\n",
        "\n",
        "1. Brittle\n",
        "2. Hard to write, can get complex to be correct\n",
        "3. Hard to read"
      ]
    },
    {
      "cell_type": "markdown",
      "metadata": {
        "id": "htEONH37TjAI"
      },
      "source": [
        "## Revisiting tokenization"
      ]
    },
    {
      "cell_type": "markdown",
      "metadata": {
        "id": "IqGOxgzcTjAI"
      },
      "source": [
        "In the previous lessons, we used a tokenizer.  Now, let's learn how we could do this ourselves, and get a better understanding of tokenization."
      ]
    },
    {
      "cell_type": "markdown",
      "metadata": {
        "id": "lkoDB3DETjAI"
      },
      "source": [
        "What if we needed to create our own tokens?"
      ]
    },
    {
      "cell_type": "code",
      "execution_count": 18,
      "metadata": {
        "id": "by62mYwHTjAI"
      },
      "outputs": [],
      "source": [
        "import re"
      ]
    },
    {
      "cell_type": "code",
      "execution_count": 19,
      "metadata": {
        "colab": {
          "base_uri": "https://localhost:8080/"
        },
        "id": "pHIMfdKgTjAI",
        "outputId": "fd130cc9-f272-467e-f292-4916adfb308c"
      },
      "outputs": [
        {
          "output_type": "stream",
          "name": "stderr",
          "text": [
            "<>:1: SyntaxWarning: invalid escape sequence '\\-'\n",
            "<>:1: SyntaxWarning: invalid escape sequence '\\-'\n",
            "/tmp/ipython-input-1416755579.py:1: SyntaxWarning: invalid escape sequence '\\-'\n",
            "  re_punc = re.compile(\"([\\\"\\''().,;:/_?!—\\-])\") # add spaces around punctuation\n"
          ]
        }
      ],
      "source": [
        "re_punc = re.compile(\"([\\\"\\''().,;:/_?!—\\-])\") # add spaces around punctuation\n",
        "re_apos = re.compile(r\"n ' t \")    # n't\n",
        "re_bpos = re.compile(r\" ' s \")     # 's\n",
        "re_mult_space = re.compile(r\"  *\") # replace multiple spaces with just one\n",
        "\n",
        "def simple_toks(sent):\n",
        "    sent = re_punc.sub(r\" \\1 \", sent)\n",
        "    sent = re_apos.sub(r\" n't \", sent)\n",
        "    sent = re_bpos.sub(r\" 's \", sent)\n",
        "    sent = re_mult_space.sub(' ', sent)\n",
        "    return sent.lower().split()"
      ]
    },
    {
      "cell_type": "code",
      "execution_count": 20,
      "metadata": {
        "id": "qQhF1tKrTjAI"
      },
      "outputs": [],
      "source": [
        "text = \"I don't know who Kara's new friend is-- is it 'Mr. Toad'?\""
      ]
    },
    {
      "cell_type": "code",
      "execution_count": 21,
      "metadata": {
        "colab": {
          "base_uri": "https://localhost:8080/",
          "height": 56
        },
        "id": "6k6FAtMvTjAI",
        "outputId": "627b07e5-3432-4e51-b747-b26b63dc2c60"
      },
      "outputs": [
        {
          "output_type": "execute_result",
          "data": {
            "text/plain": [
              "\"i do n't know who kara 's new friend is - - is it ' mr . toad ' ?\""
            ],
            "application/vnd.google.colaboratory.intrinsic+json": {
              "type": "string"
            }
          },
          "metadata": {},
          "execution_count": 21
        }
      ],
      "source": [
        "' '.join(simple_toks(text))"
      ]
    },
    {
      "cell_type": "code",
      "execution_count": 22,
      "metadata": {
        "colab": {
          "base_uri": "https://localhost:8080/",
          "height": 56
        },
        "id": "EmFbKkqYTjAJ",
        "outputId": "17718fa9-6599-434e-8e5b-94ca9b4e984d"
      },
      "outputs": [
        {
          "output_type": "execute_result",
          "data": {
            "text/plain": [
              "\"I don ' t know who Kara ' s new friend is -  -  is it  ' Mr .  Toad '  ? \""
            ],
            "application/vnd.google.colaboratory.intrinsic+json": {
              "type": "string"
            }
          },
          "metadata": {},
          "execution_count": 22
        }
      ],
      "source": [
        "text2 = re_punc.sub(r\" \\1 \", text); text2"
      ]
    },
    {
      "cell_type": "code",
      "execution_count": 23,
      "metadata": {
        "colab": {
          "base_uri": "https://localhost:8080/",
          "height": 56
        },
        "id": "bJh2SevNTjAJ",
        "outputId": "e605f95f-514b-4cc6-f045-90828722b2e8"
      },
      "outputs": [
        {
          "output_type": "execute_result",
          "data": {
            "text/plain": [
              "\"I do n't know who Kara ' s new friend is -  -  is it  ' Mr .  Toad '  ? \""
            ],
            "application/vnd.google.colaboratory.intrinsic+json": {
              "type": "string"
            }
          },
          "metadata": {},
          "execution_count": 23
        }
      ],
      "source": [
        "text3 = re_apos.sub(r\" n't \", text2); text3"
      ]
    },
    {
      "cell_type": "code",
      "execution_count": 24,
      "metadata": {
        "colab": {
          "base_uri": "https://localhost:8080/",
          "height": 56
        },
        "id": "ilICW7g_TjAJ",
        "outputId": "b91c3aaa-a533-40c2-bf08-15f77a6d03e6"
      },
      "outputs": [
        {
          "output_type": "execute_result",
          "data": {
            "text/plain": [
              "\"I do n't know who Kara 's new friend is -  -  is it  ' Mr .  Toad '  ? \""
            ],
            "application/vnd.google.colaboratory.intrinsic+json": {
              "type": "string"
            }
          },
          "metadata": {},
          "execution_count": 24
        }
      ],
      "source": [
        "text4 = re_bpos.sub(r\" 's \", text3); text4"
      ]
    },
    {
      "cell_type": "code",
      "execution_count": 25,
      "metadata": {
        "colab": {
          "base_uri": "https://localhost:8080/",
          "height": 56
        },
        "id": "slc5RE9NTjAJ",
        "outputId": "0338b2a4-0248-43a0-f103-be7be02cc674"
      },
      "outputs": [
        {
          "output_type": "execute_result",
          "data": {
            "text/plain": [
              "\"I do n't know who Kara 's new friend is - - is it ' Mr . Toad ' ? \""
            ],
            "application/vnd.google.colaboratory.intrinsic+json": {
              "type": "string"
            }
          },
          "metadata": {},
          "execution_count": 25
        }
      ],
      "source": [
        "re_mult_space.sub(' ', text4)"
      ]
    },
    {
      "cell_type": "code",
      "execution_count": 26,
      "metadata": {
        "id": "HPhcjK_8TjAJ"
      },
      "outputs": [],
      "source": [
        "sentences = ['All this happened, more or less.',\n",
        "             'The war parts, anyway, are pretty much true.',\n",
        "             \"One guy I knew really was shot for taking a teapot that wasn't his.\",\n",
        "             'Another guy I knew really did threaten to have his personal enemies killed by hired gunmen after the war.',\n",
        "             'And so on.',\n",
        "             \"I've changed all their names.\"]"
      ]
    },
    {
      "cell_type": "code",
      "execution_count": 27,
      "metadata": {
        "id": "eyNoDVShTjAJ"
      },
      "outputs": [],
      "source": [
        "tokens = list(map(simple_toks, sentences))"
      ]
    },
    {
      "cell_type": "code",
      "execution_count": 28,
      "metadata": {
        "colab": {
          "base_uri": "https://localhost:8080/"
        },
        "id": "1_5WblH3TjAJ",
        "outputId": "96eb20cb-9f7b-44b1-c0a1-22796c2bb6a0"
      },
      "outputs": [
        {
          "output_type": "execute_result",
          "data": {
            "text/plain": [
              "[['all', 'this', 'happened', ',', 'more', 'or', 'less', '.'],\n",
              " ['the',\n",
              "  'war',\n",
              "  'parts',\n",
              "  ',',\n",
              "  'anyway',\n",
              "  ',',\n",
              "  'are',\n",
              "  'pretty',\n",
              "  'much',\n",
              "  'true',\n",
              "  '.'],\n",
              " ['one',\n",
              "  'guy',\n",
              "  'i',\n",
              "  'knew',\n",
              "  'really',\n",
              "  'was',\n",
              "  'shot',\n",
              "  'for',\n",
              "  'taking',\n",
              "  'a',\n",
              "  'teapot',\n",
              "  'that',\n",
              "  'was',\n",
              "  \"n't\",\n",
              "  'his',\n",
              "  '.'],\n",
              " ['another',\n",
              "  'guy',\n",
              "  'i',\n",
              "  'knew',\n",
              "  'really',\n",
              "  'did',\n",
              "  'threaten',\n",
              "  'to',\n",
              "  'have',\n",
              "  'his',\n",
              "  'personal',\n",
              "  'enemies',\n",
              "  'killed',\n",
              "  'by',\n",
              "  'hired',\n",
              "  'gunmen',\n",
              "  'after',\n",
              "  'the',\n",
              "  'war',\n",
              "  '.'],\n",
              " ['and', 'so', 'on', '.'],\n",
              " ['i', \"'\", 've', 'changed', 'all', 'their', 'names', '.']]"
            ]
          },
          "metadata": {},
          "execution_count": 28
        }
      ],
      "source": [
        "tokens"
      ]
    },
    {
      "cell_type": "markdown",
      "metadata": {
        "id": "1K1Sp9OlTjAJ"
      },
      "source": [
        "Once we have our tokens, we need to convert them to integer ids.  We will also need to know our vocabulary, and have a way to convert between words and ids."
      ]
    },
    {
      "cell_type": "code",
      "execution_count": 29,
      "metadata": {
        "id": "b0OrIWFITjAJ"
      },
      "outputs": [],
      "source": [
        "import collections"
      ]
    },
    {
      "cell_type": "code",
      "execution_count": 30,
      "metadata": {
        "id": "gMN-4Ry1TjAJ"
      },
      "outputs": [],
      "source": [
        "PAD = 0; SOS = 1\n",
        "\n",
        "def toks2ids(sentences):\n",
        "    voc_cnt = collections.Counter(t for sent in sentences for t in sent)\n",
        "    vocab = sorted(voc_cnt, key=voc_cnt.get, reverse=True)\n",
        "    vocab.insert(PAD, \"<PAD>\")\n",
        "    vocab.insert(SOS, \"<SOS>\")\n",
        "    w2id = {w:i for i,w in enumerate(vocab)}\n",
        "    ids = [[w2id[t] for t in sent] for sent in sentences]\n",
        "    return ids, vocab, w2id, voc_cnt"
      ]
    },
    {
      "cell_type": "code",
      "execution_count": null,
      "metadata": {
        "id": "h2TwsIl4TjAJ"
      },
      "outputs": [],
      "source": [
        "ids, vocab, w2id, voc_cnt = toks2ids(tokens)"
      ]
    },
    {
      "cell_type": "code",
      "execution_count": null,
      "metadata": {
        "colab": {
          "base_uri": "https://localhost:8080/"
        },
        "id": "bKsz1iRQTjAJ",
        "outputId": "86e4e3ae-c96b-4826-e62e-d42364ca1211"
      },
      "outputs": [
        {
          "output_type": "execute_result",
          "data": {
            "text/plain": [
              "[[5, 13, 14, 3, 15, 16, 17, 2],\n",
              " [6, 7, 18, 3, 19, 3, 20, 21, 22, 23, 2],\n",
              " [24, 8, 4, 9, 10, 11, 25, 26, 27, 28, 29, 30, 11, 31, 12, 2],\n",
              " [32, 8, 4, 9, 10, 33, 34, 35, 36, 12, 37, 38, 39, 40, 41, 42, 43, 6, 7, 2],\n",
              " [44, 45, 46, 2],\n",
              " [4, 47, 48, 49, 5, 50, 51, 2]]"
            ]
          },
          "metadata": {},
          "execution_count": 35
        }
      ],
      "source": [
        "ids"
      ]
    },
    {
      "cell_type": "code",
      "execution_count": null,
      "metadata": {
        "colab": {
          "base_uri": "https://localhost:8080/"
        },
        "id": "R8FsvfxdTjAK",
        "outputId": "b90192fb-d567-44a8-8bf0-d0abebdde611"
      },
      "outputs": [
        {
          "output_type": "execute_result",
          "data": {
            "text/plain": [
              "['<PAD>',\n",
              " '<SOS>',\n",
              " '.',\n",
              " ',',\n",
              " 'i',\n",
              " 'all',\n",
              " 'the',\n",
              " 'war',\n",
              " 'guy',\n",
              " 'knew',\n",
              " 'really',\n",
              " 'was',\n",
              " 'his',\n",
              " 'this',\n",
              " 'happened',\n",
              " 'more',\n",
              " 'or',\n",
              " 'less',\n",
              " 'parts',\n",
              " 'anyway',\n",
              " 'are',\n",
              " 'pretty',\n",
              " 'much',\n",
              " 'true',\n",
              " 'one',\n",
              " 'shot',\n",
              " 'for',\n",
              " 'taking',\n",
              " 'a',\n",
              " 'teapot',\n",
              " 'that',\n",
              " \"n't\",\n",
              " 'another',\n",
              " 'did',\n",
              " 'threaten',\n",
              " 'to',\n",
              " 'have',\n",
              " 'personal',\n",
              " 'enemies',\n",
              " 'killed',\n",
              " 'by',\n",
              " 'hired',\n",
              " 'gunmen',\n",
              " 'after',\n",
              " 'and',\n",
              " 'so',\n",
              " 'on',\n",
              " \"'\",\n",
              " 've',\n",
              " 'changed',\n",
              " 'their',\n",
              " 'names']"
            ]
          },
          "metadata": {},
          "execution_count": 36
        }
      ],
      "source": [
        "vocab"
      ]
    },
    {
      "cell_type": "markdown",
      "metadata": {
        "id": "Ewgqmgq4TjAK"
      },
      "source": [
        "Q: what could be another name of the `vocab` variable above?"
      ]
    },
    {
      "cell_type": "code",
      "execution_count": null,
      "metadata": {
        "colab": {
          "base_uri": "https://localhost:8080/"
        },
        "id": "u7K4iH6aTjAK",
        "outputId": "44e53634-a928-4860-99fb-d76086d08d0d"
      },
      "outputs": [
        {
          "output_type": "execute_result",
          "data": {
            "text/plain": [
              "{'<PAD>': 0,\n",
              " '<SOS>': 1,\n",
              " '.': 2,\n",
              " ',': 3,\n",
              " 'i': 4,\n",
              " 'all': 5,\n",
              " 'the': 6,\n",
              " 'war': 7,\n",
              " 'guy': 8,\n",
              " 'knew': 9,\n",
              " 'really': 10,\n",
              " 'was': 11,\n",
              " 'his': 12,\n",
              " 'this': 13,\n",
              " 'happened': 14,\n",
              " 'more': 15,\n",
              " 'or': 16,\n",
              " 'less': 17,\n",
              " 'parts': 18,\n",
              " 'anyway': 19,\n",
              " 'are': 20,\n",
              " 'pretty': 21,\n",
              " 'much': 22,\n",
              " 'true': 23,\n",
              " 'one': 24,\n",
              " 'shot': 25,\n",
              " 'for': 26,\n",
              " 'taking': 27,\n",
              " 'a': 28,\n",
              " 'teapot': 29,\n",
              " 'that': 30,\n",
              " \"n't\": 31,\n",
              " 'another': 32,\n",
              " 'did': 33,\n",
              " 'threaten': 34,\n",
              " 'to': 35,\n",
              " 'have': 36,\n",
              " 'personal': 37,\n",
              " 'enemies': 38,\n",
              " 'killed': 39,\n",
              " 'by': 40,\n",
              " 'hired': 41,\n",
              " 'gunmen': 42,\n",
              " 'after': 43,\n",
              " 'and': 44,\n",
              " 'so': 45,\n",
              " 'on': 46,\n",
              " \"'\": 47,\n",
              " 've': 48,\n",
              " 'changed': 49,\n",
              " 'their': 50,\n",
              " 'names': 51}"
            ]
          },
          "metadata": {},
          "execution_count": 37
        }
      ],
      "source": [
        "w2id"
      ]
    },
    {
      "cell_type": "markdown",
      "metadata": {
        "id": "KqAhY63oTjAK"
      },
      "source": [
        "What are the uses of RegEx?\n",
        "---\n",
        "\n"
      ]
    },
    {
      "cell_type": "markdown",
      "metadata": {
        "id": "Bo9Aw-LETjAK"
      },
      "source": [
        "1. Find / Search\n",
        "1. Find & Replace\n",
        "2. Cleaning"
      ]
    },
    {
      "cell_type": "markdown",
      "metadata": {
        "id": "TNuWYhRYTjAK"
      },
      "source": [
        "Don't forgot about Python's `str` methods\n",
        "-----\n",
        "\n",
        "`str.<tab>`\n",
        "    \n",
        "str.find()"
      ]
    },
    {
      "cell_type": "code",
      "execution_count": null,
      "metadata": {
        "id": "Ev06aXQGTjAK",
        "colab": {
          "base_uri": "https://localhost:8080/",
          "height": 157
        },
        "outputId": "17d32f56-c616-4574-cf33-2c07a82aa495"
      },
      "outputs": [
        {
          "output_type": "error",
          "ename": "TypeError",
          "evalue": "unbound method str.find() needs an argument",
          "traceback": [
            "\u001b[0;31m---------------------------------------------------------------------------\u001b[0m",
            "\u001b[0;31mTypeError\u001b[0m                                 Traceback (most recent call last)",
            "\u001b[0;32m/tmp/ipython-input-3144812362.py\u001b[0m in \u001b[0;36m<cell line: 0>\u001b[0;34m()\u001b[0m\n\u001b[0;32m----> 1\u001b[0;31m \u001b[0mstr\u001b[0m\u001b[0;34m.\u001b[0m\u001b[0mfind\u001b[0m\u001b[0;34m(\u001b[0m\u001b[0;34m)\u001b[0m\u001b[0;34m\u001b[0m\u001b[0;34m\u001b[0m\u001b[0m\n\u001b[0m",
            "\u001b[0;31mTypeError\u001b[0m: unbound method str.find() needs an argument"
          ]
        }
      ],
      "source": [
        "str.find()"
      ]
    },
    {
      "cell_type": "markdown",
      "metadata": {
        "id": "K1k2Hm7iTjAK"
      },
      "source": [
        "Regex vs. String methods\n",
        "-----\n",
        "\n",
        "1. String methods are easier to understand.\n",
        "1. String methods express the intent more clearly.\n",
        "\n",
        "-----\n",
        "\n",
        "1. Regex handle much broader use cases.\n",
        "1. Regex can be language independent.\n",
        "1. Regex can be faster at scale."
      ]
    },
    {
      "cell_type": "markdown",
      "metadata": {
        "id": "0-Ml867sTjAK"
      },
      "source": [
        "## What about unicode?"
      ]
    },
    {
      "cell_type": "code",
      "execution_count": 31,
      "metadata": {
        "colab": {
          "base_uri": "https://localhost:8080/",
          "height": 56
        },
        "id": "zUYsGlzCTjAK",
        "outputId": "870b8d1b-8bc2-4e6e-ab4f-34efdc64c963"
      },
      "outputs": [
        {
          "output_type": "execute_result",
          "data": {
            "text/plain": [
              "'😊🎦 😊🍕'"
            ],
            "application/vnd.google.colaboratory.intrinsic+json": {
              "type": "string"
            }
          },
          "metadata": {},
          "execution_count": 31
        }
      ],
      "source": [
        "message = \"😒🎦 🤢🍕\"\n",
        "\n",
        "re_frown = re.compile(r\"😒|🤢\")\n",
        "re_frown.sub(r\"😊\", message)"
      ]
    },
    {
      "cell_type": "markdown",
      "metadata": {
        "id": "_BMN_XJpTjAL"
      },
      "source": [
        "## Regex Errors:"
      ]
    },
    {
      "cell_type": "markdown",
      "metadata": {
        "id": "ntQtYaGXTjAL"
      },
      "source": [
        "__False positives__ (Type I): Matching strings that we should __not__ have\n",
        "matched\n",
        "\n",
        "__False negatives__ (Type II): __Not__ matching strings that we should have matched"
      ]
    },
    {
      "cell_type": "markdown",
      "metadata": {
        "id": "tQdzSxEjTjAL"
      },
      "source": [
        "Reducing the error rate for a task often involves two antagonistic efforts:\n",
        "\n",
        "1. Minimizing false positives\n",
        "2. Minimizing false negatives\n",
        "\n",
        "**Important to have tests for both!**"
      ]
    },
    {
      "cell_type": "markdown",
      "metadata": {
        "id": "4jXGjH-vTjAL"
      },
      "source": [
        "In a perfect world, you would be able to minimize both but in reality you often have to trade one for the other."
      ]
    },
    {
      "cell_type": "markdown",
      "metadata": {
        "id": "cfudq_y-TjAL"
      },
      "source": [
        "Useful Tools:\n",
        "----\n",
        "- [Regex cheatsheet](http://www.cheatography.com/davechild/cheat-sheets/regular-expressions/)\n",
        "- [regexr.com](http://regexr.com/) Realtime regex engine\n",
        "- [pyregex.com](https://pythex.org/) Realtime Python regex engine"
      ]
    },
    {
      "cell_type": "markdown",
      "metadata": {
        "id": "R8PYjNICTjAL"
      },
      "source": [
        "Summary\n",
        "----\n",
        "\n",
        "1. We use regex as a metalanguage to find string patterns in blocks of text\n",
        "1. `r\"\"` are your IRL friends for Python regex\n",
        "1. We are just doing binary classification so use the same performance metrics\n",
        "1. You'll make a lot of mistakes in regex 😩.\n",
        "    - False Positive: Thinking you are right but you are wrong\n",
        "    - False Negative: Missing something"
      ]
    },
    {
      "cell_type": "markdown",
      "metadata": {
        "id": "_q7XurxqTjAL"
      },
      "source": [
        "<center><img src=\"images/face_tat.png\" width=\"700\"/></center>"
      ]
    },
    {
      "cell_type": "markdown",
      "metadata": {
        "id": "Lvp6yqgtTjAL"
      },
      "source": [
        "<br>\n",
        "<br>\n",
        "---"
      ]
    },
    {
      "cell_type": "markdown",
      "metadata": {
        "id": "HdNn3lNuTjAL"
      },
      "source": [
        "<center><img src=\"https://imgs.xkcd.com/comics/perl_problems.png\" width=\"700\"/></center>"
      ]
    },
    {
      "cell_type": "markdown",
      "metadata": {
        "id": "7xXKIUlYTjAL"
      },
      "source": [
        "<center><img src=\"https://imgs.xkcd.com/comics/regex_golf.png\" width=\"700\"/></center>"
      ]
    },
    {
      "cell_type": "markdown",
      "metadata": {
        "id": "5FaUm42YTjAL"
      },
      "source": [
        "Regex Terms\n",
        "----\n"
      ]
    },
    {
      "cell_type": "markdown",
      "metadata": {
        "id": "9qjs6yT0TjAL"
      },
      "source": [
        "- __target string__:\tThis term describes the string that we will be searching, that is, the string in which we want to find our match or search pattern.\n"
      ]
    },
    {
      "cell_type": "markdown",
      "metadata": {
        "id": "JbDVB6F-TjAL"
      },
      "source": [
        "- __search expression__: The pattern we use to find what we want. Most commonly called the regular expression.\n"
      ]
    },
    {
      "cell_type": "markdown",
      "metadata": {
        "id": "6lHh4r66TjAL"
      },
      "source": [
        "- __literal__:\tA literal is any character we use in a search or matching expression, for example, to find 'ind' in 'windows' the 'ind' is a literal string - each character plays a part in the search, it is literally the string we want to find."
      ]
    },
    {
      "cell_type": "markdown",
      "metadata": {
        "id": "IFmdXeipTjAM"
      },
      "source": [
        "- __metacharacter__: A metacharacter is one or more special characters that have a unique meaning and are NOT used as literals in the search expression. For example \".\" means any character.\n",
        "\n",
        "Metacharacters are the special sauce of regex."
      ]
    },
    {
      "cell_type": "markdown",
      "metadata": {
        "id": "wfL7BJAvTjAM"
      },
      "source": [
        "- __escape sequence__:\tAn escape sequence is a way of indicating that we want to use a metacharacters as a literal."
      ]
    },
    {
      "cell_type": "markdown",
      "metadata": {
        "id": "s0edfKCCTjAM"
      },
      "source": [
        "In a regular expression an escape sequence involves placing the metacharacter \\ (backslash) in front of the metacharacter that we want to use as a literal.\n",
        "\n",
        "`'\\.'` means find literal period character (not match any character)"
      ]
    },
    {
      "cell_type": "markdown",
      "metadata": {
        "id": "B5Hu7jq8TjAM"
      },
      "source": [
        "Regex Workflow\n",
        "---\n",
        "1. Create pattern in Plain English\n",
        "2. Map to regex language\n",
        "3. Make sure results are correct:\n",
        "    - All Positives: Captures all examples of pattern\n",
        "    - No Negatives: Everything captured is from the pattern\n",
        "4. Don't over-engineer your regex.\n",
        "    - Your goal is to Get Stuff Done, not write the best regex in the world\n",
        "    - Filtering before and after are okay."
      ]
    },
    {
      "cell_type": "markdown",
      "source": [
        "I want to find all e-mails in sentences"
      ],
      "metadata": {
        "id": "9uFWKs35Um_e"
      }
    },
    {
      "cell_type": "code",
      "source": [
        "import re"
      ],
      "metadata": {
        "id": "okCs8pTNVOh_"
      },
      "execution_count": 51,
      "outputs": []
    },
    {
      "cell_type": "code",
      "source": [
        "# Мой текст который я буду проверять\n",
        "sentences = [\"My e-mail is daniarmuhamed22@gmail.com, also you can send this information to my second e-mail, it is m_daniyaruly@kbtu.kz\",\n",
        "             \"His e-mail is e_aitbay@kbtu.kz\"]"
      ],
      "metadata": {
        "id": "vnnkN1SaUcS2"
      },
      "execution_count": 88,
      "outputs": []
    },
    {
      "cell_type": "code",
      "source": [
        "# Примеры которая не будет принимать наш паттерн\n",
        "worst_cases = [\"@@@, hello@world\"]"
      ],
      "metadata": {
        "id": "zMsiFc0wWlY2"
      },
      "execution_count": 85,
      "outputs": []
    },
    {
      "cell_type": "code",
      "source": [
        "# Создаем паттерн который находить все эмайл почты\n",
        "pattern = re.compile(r\"[a-zA-Z0-9._%+-]+@[a-zA-Z0-9.-]+\\.[a-zA-Z]{2,}\")\n",
        "pattern"
      ],
      "metadata": {
        "colab": {
          "base_uri": "https://localhost:8080/"
        },
        "id": "HGKNCT8BUqUB",
        "outputId": "271dd080-19db-4b24-d0cd-84d4ad647a50"
      },
      "execution_count": 82,
      "outputs": [
        {
          "output_type": "execute_result",
          "data": {
            "text/plain": [
              "re.compile(r'[a-zA-Z0-9._%+-]+@[a-zA-Z0-9.-]+\\.[a-zA-Z]{2,}', re.UNICODE)"
            ]
          },
          "metadata": {},
          "execution_count": 82
        }
      ]
    },
    {
      "cell_type": "code",
      "source": [
        "gmails = pattern.findall(sentences[0])\n",
        "gmails"
      ],
      "metadata": {
        "colab": {
          "base_uri": "https://localhost:8080/"
        },
        "id": "H5D3cZZeWPKd",
        "outputId": "1ca7ca1d-e9a5-43e9-e9a4-1907e70f52fe"
      },
      "execution_count": 91,
      "outputs": [
        {
          "output_type": "execute_result",
          "data": {
            "text/plain": [
              "['daniarmuhamed22@gmail.com', 'm_daniyaruly@kbtu.kz']"
            ]
          },
          "metadata": {},
          "execution_count": 91
        }
      ]
    },
    {
      "cell_type": "code",
      "source": [
        "pattern.findall(worst_cases[0])"
      ],
      "metadata": {
        "colab": {
          "base_uri": "https://localhost:8080/"
        },
        "id": "1gcRY9glWo1u",
        "outputId": "f11d6a67-3712-4a9d-e6fb-0eb76644630e"
      },
      "execution_count": 92,
      "outputs": [
        {
          "output_type": "execute_result",
          "data": {
            "text/plain": [
              "[]"
            ]
          },
          "metadata": {},
          "execution_count": 92
        }
      ]
    }
  ],
  "metadata": {
    "kernelspec": {
      "display_name": "Python 3 (ipykernel)",
      "language": "python",
      "name": "python3"
    },
    "language_info": {
      "codemirror_mode": {
        "name": "ipython",
        "version": 3
      },
      "file_extension": ".py",
      "mimetype": "text/x-python",
      "name": "python",
      "nbconvert_exporter": "python",
      "pygments_lexer": "ipython3",
      "version": "3.12.4"
    },
    "colab": {
      "provenance": []
    }
  },
  "nbformat": 4,
  "nbformat_minor": 0
}