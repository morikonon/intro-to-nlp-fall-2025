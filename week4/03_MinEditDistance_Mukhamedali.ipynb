{
  "cells": [
    {
      "cell_type": "markdown",
      "metadata": {
        "id": "wt4sVtx0CqPh"
      },
      "source": [
        "# **Minimum Edit Distance 3**"
      ]
    },
    {
      "cell_type": "markdown",
      "metadata": {
        "id": "4ZpQZ813DSgW"
      },
      "source": [
        "# **Write up: Briefly Define your Algorithm**\n",
        "\n",
        "*Place your write up here as to how you implemented the minimum edit distance algorithm. Be as clear as you can, but don't over do it.*\n",
        "\n",
        "**Minimum Edit Distance**<br>\n",
        "I first make a matrix with the length of the target + 1 by the source + 1. I also initialize the matrix's first row and column by adding values from 0 to the length of the source + 1 for the row and the length of the target + 1 for the column. The algorithm starts at the index [1,1] wherein I check whether the character at the row index of the source matches the character at the column index of the target matches each other. If they do, then the I copy the value diagonally to the top left of it which becomes the new entry of the matrix, meaning it is a match. Otherwise, I get the values one index up + 1(insert), to the left + 1(delete), and diagonally to the top left + 2(mismatch) and choose which among the three is the minimum. Then the minimum will be the new entry in the matrix. I continue this as I traverse each index of the matrix from left to right and top to bottom. The last entry of the matrix will result to the minimum edit distance for the source and target strings.<br><br>\n",
        "**Backtracing**<br>\n",
        "For the back tracing portion, I had to traverse from the bottom right, to the top most index while choosing the path with the least weight. While in a loop, I choose between the value above, to the left, and diagonally to the top left whether which is the minimum. There are four conditions I have to check to know which minimum operation to use to help assign the alignments. I check for a mismatch, meaning the diagonal value is the minimum and is minus 2 of the current index, I check for a match wherein the diagonal value is the minimum and is the same as the current index, an insertion where the minium value is to the left of the current index, and lastly a delete operation which is one value above the current index. I have an operation string that keeps getting appendend with the minimum operation as I back trace throught the matrix. For the alignments, if I get a mismatch, I just copy both characters from the source and target's row and column index respectively. I do the same thing for a match. If I get an insertion, the target alignment gets a \"-\" character while the source alignment gets the column index of the original string. Lastly for a deletion, the source alignment gets a \"-\" character while the target alignment gets the character at the row index of the orginal string."
      ]
    },
    {
      "cell_type": "markdown",
      "metadata": {
        "id": "nnzCsnf1E4V1"
      },
      "source": [
        "# **Solution**\n",
        "\n",
        "*Kindly place your solution in the code block below. You may use multiple code blocks if you see the need to do so.*"
      ]
    },
    {
      "cell_type": "code",
      "execution_count": 1,
      "metadata": {
        "id": "iZ-8DLqrkiGK"
      },
      "outputs": [],
      "source": [
        "i = 4\n",
        "j = 4"
      ]
    },
    {
      "cell_type": "code",
      "execution_count": 4,
      "metadata": {
        "colab": {
          "base_uri": "https://localhost:8080/"
        },
        "id": "7tbpl0hTkiGK",
        "outputId": "3674fd33-0342-464f-d350-fbf9d4a63c64"
      },
      "outputs": [
        {
          "output_type": "execute_result",
          "data": {
            "text/plain": [
              "True"
            ]
          },
          "metadata": {},
          "execution_count": 4
        }
      ],
      "source": [
        "source, target = \"naruto's son\", \"boruto's dad\"\n",
        "source[i - 1] == target[j - 1]"
      ]
    },
    {
      "cell_type": "code",
      "execution_count": null,
      "metadata": {
        "colab": {
          "base_uri": "https://localhost:8080/",
          "height": 157
        },
        "id": "NpRRmdqHkiGL",
        "outputId": "4651a09c-c33b-43c7-f8c8-68a205bd98f4"
      },
      "outputs": [
        {
          "output_type": "error",
          "ename": "NameError",
          "evalue": "name 'matrix' is not defined",
          "traceback": [
            "\u001b[0;31m---------------------------------------------------------------------------\u001b[0m",
            "\u001b[0;31mNameError\u001b[0m                                 Traceback (most recent call last)",
            "\u001b[0;32m/tmp/ipython-input-1726302990.py\u001b[0m in \u001b[0;36m<cell line: 0>\u001b[0;34m()\u001b[0m\n\u001b[0;32m----> 1\u001b[0;31m \u001b[0mmatrix\u001b[0m\u001b[0;34m[\u001b[0m\u001b[0mi\u001b[0m\u001b[0;34m]\u001b[0m\u001b[0;34m[\u001b[0m\u001b[0mj\u001b[0m\u001b[0;34m]\u001b[0m \u001b[0;34m=\u001b[0m \u001b[0mmatrix\u001b[0m\u001b[0;34m[\u001b[0m\u001b[0mi\u001b[0m \u001b[0;34m-\u001b[0m \u001b[0;36m1\u001b[0m\u001b[0;34m]\u001b[0m\u001b[0;34m[\u001b[0m\u001b[0mj\u001b[0m \u001b[0;34m-\u001b[0m \u001b[0;36m1\u001b[0m\u001b[0;34m]\u001b[0m\u001b[0;34m\u001b[0m\u001b[0;34m\u001b[0m\u001b[0m\n\u001b[0m",
            "\u001b[0;31mNameError\u001b[0m: name 'matrix' is not defined"
          ]
        }
      ],
      "source": [
        "matrix[i][j] = matrix[i - 1][j - 1]"
      ]
    },
    {
      "cell_type": "code",
      "execution_count": null,
      "metadata": {
        "id": "ff7ohZoykiGL",
        "outputId": "de0bf7de-3a69-4049-cfb7-75032d16754f"
      },
      "outputs": [
        {
          "data": {
            "text/plain": [
              "[[0, 1, 2, 3, 4, 5, 6, 7, 8, 9, 10, 11, 12],\n",
              " [1, 0, 0, 0, 0, 0, 0, 0, 0, 0, 0, 0, 0],\n",
              " [2, 0, 0, 0, 0, 0, 0, 0, 0, 0, 0, 0, 0],\n",
              " [3, 0, 0, 0, 0, 0, 0, 0, 0, 0, 0, 0, 0],\n",
              " [4, 0, 0, 0, 0, 0, 0, 0, 0, 0, 0, 0, 0],\n",
              " [5, 0, 0, 0, 0, 0, 0, 0, 0, 0, 0, 0, 0],\n",
              " [6, 0, 0, 0, 0, 0, 0, 0, 0, 0, 0, 0, 0],\n",
              " [7, 0, 0, 0, 0, 0, 0, 0, 0, 0, 0, 0, 0],\n",
              " [8, 0, 0, 0, 0, 0, 0, 0, 0, 0, 0, 0, 0],\n",
              " [9, 0, 0, 0, 0, 0, 0, 0, 0, 0, 0, 0, 0],\n",
              " [10, 0, 0, 0, 0, 0, 0, 0, 0, 0, 0, 0, 0],\n",
              " [11, 0, 0, 0, 0, 0, 0, 0, 0, 0, 0, 0, 0],\n",
              " [12, 0, 0, 0, 0, 0, 0, 0, 0, 0, 0, 0, 0]]"
            ]
          },
          "execution_count": 40,
          "metadata": {},
          "output_type": "execute_result"
        }
      ],
      "source": [
        "matrix"
      ]
    },
    {
      "cell_type": "markdown",
      "metadata": {
        "id": "mFPBg5CGkiGL"
      },
      "source": [
        "[[0, 1, 2, 3, 4, 5, 6, 7, 8, 9, 10, 11, 12],\n",
        "\n",
        " [1, 0, 0, 0, 0, 0, 0, 0, 0, 0, 0, 0, 0],\n",
        "\n",
        " [2, 0, 0, 0, 0, 0, 0, 0, 0, 0, 0, 0, 0],\n",
        "\n",
        " [3, 0, 0, 0, 0, 0, 0, 0, 0, 0, 0, 0, 0],\n",
        "\n",
        " [4, 0, 0, 0, 0, 0, 0, 0, 0, 0, 0, 0, 0],\n",
        "\n",
        " [5, 0, 0, 0, 0, 0, 0, 0, 0, 0, 0, 0, 0],\n",
        "\n",
        " [6, 0, 0, 0, 0, 0, 0, 0, 0, 0, 0, 0, 0],\n",
        "\n",
        " [7, 0, 0, 0, 0, 0, 0, 0, 0, 0, 0, 0, 0],\n",
        "\n",
        " [8, 0, 0, 0, 0, 0, 0, 0, 0, 0, 0, 0, 0],\n",
        "\n",
        " [9, 0, 0, 0, 0, 0, 0, 0, 0, 0, 0, 0, 0],\n",
        "\n",
        " [10, 0, 0, 0, 0, 0, 0, 0, 0, 0, 0, 0, 0],\n",
        "\n",
        " [11, 0, 0, 0, 0, 0, 0, 0, 0, 0, 0, 0, 0],\n",
        "\n",
        " [12, 0, 0, 0, 0, 0, 0, 0, 0, 0, 0, 0, 0]]"
      ]
    },
    {
      "cell_type": "code",
      "source": [
        "matrix = [[0] * 5] * 10\n",
        "matrix"
      ],
      "metadata": {
        "colab": {
          "base_uri": "https://localhost:8080/"
        },
        "id": "4XaEBqvTmn4A",
        "outputId": "af9ab7e5-6a42-4a65-bad7-9e99fb75d51b"
      },
      "execution_count": 11,
      "outputs": [
        {
          "output_type": "execute_result",
          "data": {
            "text/plain": [
              "[[0, 0, 0, 0, 0],\n",
              " [0, 0, 0, 0, 0],\n",
              " [0, 0, 0, 0, 0],\n",
              " [0, 0, 0, 0, 0],\n",
              " [0, 0, 0, 0, 0],\n",
              " [0, 0, 0, 0, 0],\n",
              " [0, 0, 0, 0, 0],\n",
              " [0, 0, 0, 0, 0],\n",
              " [0, 0, 0, 0, 0],\n",
              " [0, 0, 0, 0, 0]]"
            ]
          },
          "metadata": {},
          "execution_count": 11
        }
      ]
    },
    {
      "cell_type": "code",
      "source": [
        "for i in range(5):\n",
        "  matrix[0][i] = i\n",
        "matrix"
      ],
      "metadata": {
        "colab": {
          "base_uri": "https://localhost:8080/"
        },
        "id": "mo8Vqz6ynj8Y",
        "outputId": "913ac257-aa22-41b7-a3ca-15d75652bccf"
      },
      "execution_count": 6,
      "outputs": [
        {
          "output_type": "execute_result",
          "data": {
            "text/plain": [
              "[[0, 1, 2, 3, 4],\n",
              " [0, 1, 2, 3, 4],\n",
              " [0, 1, 2, 3, 4],\n",
              " [0, 1, 2, 3, 4],\n",
              " [0, 1, 2, 3, 4],\n",
              " [0, 1, 2, 3, 4],\n",
              " [0, 1, 2, 3, 4],\n",
              " [0, 1, 2, 3, 4],\n",
              " [0, 1, 2, 3, 4],\n",
              " [0, 1, 2, 3, 4]]"
            ]
          },
          "metadata": {},
          "execution_count": 6
        }
      ]
    },
    {
      "cell_type": "code",
      "source": [
        "def getMinEditDistance(source, target):\n",
        "\n",
        "    rows, cols = len(source) + 1, len(target) + 1\n",
        "    matrix = [[0 for _ in range(cols)] for _ in range(rows)]\n",
        "\n",
        "    for i in range(rows):\n",
        "      matrix[0][i] = i\n",
        "\n",
        "    for j in range(cols):\n",
        "      matrix[j][0] = j\n",
        "\n",
        "    for i in range(1, rows):\n",
        "      for j in range(1, cols):\n",
        "        if source[i - 1] == target[j - 1]:\n",
        "          cost = 0\n",
        "        else:\n",
        "          cost = 1\n",
        "\n",
        "        matrix[i][j] = min(\n",
        "            matrix[i - 1][j]+1,\n",
        "            matrix[i][j-1] + 1,\n",
        "            matrix[i-1][j-1] + cost\n",
        "        )\n",
        "\n",
        "    return matrix, matrix[-1][-1]"
      ],
      "metadata": {
        "id": "gmQUsO5-pCL4"
      },
      "execution_count": 42,
      "outputs": []
    },
    {
      "cell_type": "code",
      "source": [
        "getMinEditDistance(\"cat\", \"cut\")"
      ],
      "metadata": {
        "colab": {
          "base_uri": "https://localhost:8080/"
        },
        "id": "sbIguNBdeeaM",
        "outputId": "4e07215d-fdf5-4fb2-dbdf-a1167033af37"
      },
      "execution_count": 43,
      "outputs": [
        {
          "output_type": "execute_result",
          "data": {
            "text/plain": [
              "([[0, 1, 2, 3], [1, 0, 1, 2], [2, 1, 1, 2], [3, 2, 2, 1]], 1)"
            ]
          },
          "metadata": {},
          "execution_count": 43
        }
      ]
    },
    {
      "cell_type": "code",
      "source": [
        "matrix = getMinEditDistance(\"hello\", \"hello\")\n",
        "matrix"
      ],
      "metadata": {
        "colab": {
          "base_uri": "https://localhost:8080/"
        },
        "id": "NZ0-pCsneCzI",
        "outputId": "97a66b02-13fa-4efa-8aa5-2b217ac4d58a"
      },
      "execution_count": 46,
      "outputs": [
        {
          "output_type": "execute_result",
          "data": {
            "text/plain": [
              "([[0, 1, 2, 3, 4, 5],\n",
              "  [1, 0, 1, 2, 3, 4],\n",
              "  [2, 1, 0, 1, 2, 3],\n",
              "  [3, 2, 1, 0, 1, 2],\n",
              "  [4, 3, 2, 1, 0, 1],\n",
              "  [5, 4, 3, 2, 1, 0]],\n",
              " 0)"
            ]
          },
          "metadata": {},
          "execution_count": 46
        }
      ]
    },
    {
      "cell_type": "code",
      "source": [
        "getMinEditDistance(\"hello\", \"regex\")"
      ],
      "metadata": {
        "colab": {
          "base_uri": "https://localhost:8080/"
        },
        "id": "Lejuog2NpF2d",
        "outputId": "a8cec0b5-36ec-4f2f-e115-393aa839bf3e"
      },
      "execution_count": 45,
      "outputs": [
        {
          "output_type": "execute_result",
          "data": {
            "text/plain": [
              "([[0, 1, 2, 3, 4, 5],\n",
              "  [1, 1, 2, 3, 4, 5],\n",
              "  [2, 2, 1, 2, 3, 4],\n",
              "  [3, 3, 2, 2, 3, 4],\n",
              "  [4, 4, 3, 3, 3, 4],\n",
              "  [5, 5, 4, 4, 4, 4]],\n",
              " 4)"
            ]
          },
          "metadata": {},
          "execution_count": 45
        }
      ]
    },
    {
      "cell_type": "code",
      "execution_count": 53,
      "metadata": {
        "id": "gfXU5Xc4E_ud"
      },
      "outputs": [],
      "source": [
        "def reverse(string):\n",
        "    string = string[::-1]\n",
        "    return string\n",
        "\n",
        "def getMinEditDistance(source, target):\n",
        "\n",
        "    rows, cols = len(source) + 1, len(target) + 1\n",
        "    matrix = [[0 for _ in range(cols)] for _ in range(rows)]\n",
        "\n",
        "    for i in range(rows):\n",
        "      matrix[i][0] = i\n",
        "\n",
        "    for j in range(cols):\n",
        "      matrix[0][j] = j\n",
        "\n",
        "\n",
        "    for i in range(1, rows):\n",
        "      for j in range(1, cols):\n",
        "        if source[i - 1] == target[j - 1]:\n",
        "          cost = 0\n",
        "        else:\n",
        "          cost = 2\n",
        "\n",
        "        matrix[i][j] = min(\n",
        "            matrix[i - 1][j] + 1,\n",
        "            matrix[i][j - 1] + 1,\n",
        "            matrix[i - 1][j - 1] + cost\n",
        "        )\n",
        "\n",
        "\n",
        "    '''\n",
        "        if the both alphabets are equal, then there is no change and we get the number of step from previuos indexes\n",
        "        otherwise, there are three possible options, insert (1 step), delete (1 step) or mismatch (2 step)\n",
        "        at the end of iteration, we should return the min from 3 possible options.\n",
        "\n",
        "        result of the 3 step\n",
        "    '''\n",
        "\n",
        "    print(\"Source: \" + source)\n",
        "    print(\"Target: \" + target)\n",
        "    print(\"-----\")\n",
        "    print(\"Distance: \", matrix[len(source)][len(target)])\n",
        "    print(\"Aligment:\")\n",
        "\n",
        "    # Backtracing\n",
        "    t_alignment, s_alignment = \"\", \"\"\n",
        "    t = [char for char in source]\n",
        "    s = [char for char in target]\n",
        "    row = len(source)\n",
        "    col = len(target)\n",
        "    trace = [[row, col]]\n",
        "    operations = \"\"\n",
        "\n",
        "    while True:\n",
        "        up = matrix[row - 1][col]\n",
        "        left = matrix[row][col - 1]\n",
        "        diag = matrix[row - 1][col - 1]\n",
        "\n",
        "        min_cost = min(up, left, diag)\n",
        "\n",
        "        if matrix[row][col] == diag + 2:\n",
        "            operations += \"M\"\n",
        "            t_alignment += t[row - 1]\n",
        "            s_alignment += s[col - 1]\n",
        "            row -= 1\n",
        "            col -= 1\n",
        "\n",
        "        elif min_cost == diag:\n",
        "            operations += \" \"\n",
        "            t_alignment += t[row - 1]\n",
        "            s_alignment += s[col - 1]\n",
        "            row -= 1\n",
        "            col -= 1\n",
        "\n",
        "        elif min_cost == left:\n",
        "            t_alignment += \"-\"\n",
        "            s_alignment += s[col - 1]\n",
        "            operations += \"I\"\n",
        "            col -= 1\n",
        "\n",
        "        elif min_cost == up:\n",
        "            t_alignment += t[row - 1]\n",
        "            s_alignment += \"-\"\n",
        "            operations += \"D\"\n",
        "            row -= 1\n",
        "\n",
        "        if row == 0 and col == 0:\n",
        "            break\n",
        "\n",
        "    print(reverse(t_alignment))\n",
        "    print(reverse(operations))\n",
        "    print(reverse(s_alignment))"
      ]
    },
    {
      "cell_type": "markdown",
      "metadata": {
        "id": "Z0g8gfIKukjx"
      },
      "source": [
        "#**Test Cases**\n",
        "\n",
        "**Legend**<br>\n",
        "I - Insert <br>\n",
        "D - Delete <br>\n",
        "M - Mismatch <br>\n",
        "\" \" - Match"
      ]
    },
    {
      "cell_type": "code",
      "execution_count": 54,
      "metadata": {
        "id": "bu5QfAl3kiGM",
        "outputId": "f443d662-0c8d-4922-8231-3227f4311074",
        "colab": {
          "base_uri": "https://localhost:8080/"
        }
      },
      "outputs": [
        {
          "output_type": "stream",
          "name": "stdout",
          "text": [
            "Source: naruto's son\n",
            "Target: boruto's dad\n",
            "-----\n",
            "Distance:  10\n",
            "Aligment:\n",
            "naruto's son\n",
            "MM       MMM\n",
            "boruto's dad\n"
          ]
        }
      ],
      "source": [
        "getMinEditDistance(\"naruto's son\", \"boruto's dad\")"
      ]
    },
    {
      "cell_type": "code",
      "execution_count": 55,
      "metadata": {
        "id": "1ImqUXm-kiGM",
        "outputId": "2da63e49-e7fa-431c-a81d-2dc37d3c6670",
        "colab": {
          "base_uri": "https://localhost:8080/"
        }
      },
      "outputs": [
        {
          "output_type": "stream",
          "name": "stdout",
          "text": [
            "Source: kumakain\n",
            "Target: kumain\n",
            "-----\n",
            "Distance:  2\n",
            "Aligment:\n",
            "kumakain\n",
            "    DD  \n",
            "kuma--in\n"
          ]
        }
      ],
      "source": [
        "getMinEditDistance(\"kumakain\", \"kumain\")"
      ]
    },
    {
      "cell_type": "code",
      "execution_count": 56,
      "metadata": {
        "id": "eiMY7oXskiGM",
        "outputId": "a3adc572-7c24-414d-e450-4fcc9a3f56f4",
        "colab": {
          "base_uri": "https://localhost:8080/"
        }
      },
      "outputs": [
        {
          "output_type": "stream",
          "name": "stdout",
          "text": [
            "Source: levinstien\n",
            "Target: levenshtein\n",
            "-----\n",
            "Distance:  5\n",
            "Aligment:\n",
            "levins-tie-n\n",
            "   M  I D I \n",
            "levensht-ein\n"
          ]
        }
      ],
      "source": [
        "getMinEditDistance(\"levinstien\", \"levenshtein\")"
      ]
    },
    {
      "cell_type": "code",
      "execution_count": 57,
      "metadata": {
        "id": "jLtXP8etkiGN",
        "outputId": "79dfb771-d776-4eed-b003-01670fdfada5",
        "colab": {
          "base_uri": "https://localhost:8080/"
        }
      },
      "outputs": [
        {
          "output_type": "stream",
          "name": "stdout",
          "text": [
            "Source: leviathan\n",
            "Target: levenshtein\n",
            "-----\n",
            "Distance:  10\n",
            "Aligment:\n",
            "lev--iathan\n",
            "   IIMM MM \n",
            "levenshtein\n"
          ]
        }
      ],
      "source": [
        "getMinEditDistance(\"leviathan\", \"levenshtein\")"
      ]
    },
    {
      "cell_type": "code",
      "execution_count": 58,
      "metadata": {
        "id": "LVyeTNq9kiGN",
        "outputId": "32bb1830-bfd9-44f2-dda6-5d9120f821cb",
        "colab": {
          "base_uri": "https://localhost:8080/"
        }
      },
      "outputs": [
        {
          "output_type": "stream",
          "name": "stdout",
          "text": [
            "Source: ATGCATCCCATGAC\n",
            "Target: TCTATATCCGT\n",
            "-----\n",
            "Distance:  11\n",
            "Aligment:\n",
            "ATGC-ATCCCAT--GAC\n",
            "D D I  DDD  II DM\n",
            "-T-CTAT---ATCCG-T\n"
          ]
        }
      ],
      "source": [
        "getMinEditDistance(\"ATGCATCCCATGAC\", \"TCTATATCCGT\")"
      ]
    },
    {
      "cell_type": "code",
      "execution_count": 59,
      "metadata": {
        "id": "5RIxwnkwkiGN",
        "outputId": "dd826931-aca6-42f8-9c8e-9019daf2dad5",
        "colab": {
          "base_uri": "https://localhost:8080/"
        }
      },
      "outputs": [
        {
          "output_type": "stream",
          "name": "stdout",
          "text": [
            "Source: AGGCTATCACCTGACCTCCAGGCCGATGCCCACCTGG\n",
            "Target: TAGCTATCACGACCGCGGTCGATTTGCCCGACGGTCC\n",
            "-----\n",
            "Distance:  18\n",
            "Aligment:\n",
            "-AGGCTATCACCTGACCTCCAGG-CCGAT--GCCC-ACCTGG---\n",
            "I  D       DD    M DD  I D   II    I  DD  III\n",
            "TAG-CTATCAC--GACCGC--GGTC-GATTTGCCCGAC--GGTCC\n"
          ]
        }
      ],
      "source": [
        "getMinEditDistance(\"AGGCTATCACCTGACCTCCAGGCCGATGCCCACCTGG\", \"TAGCTATCACGACCGCGGTCGATTTGCCCGACGGTCC\")"
      ]
    },
    {
      "cell_type": "markdown",
      "metadata": {
        "id": "8vKtSZeykiGN"
      },
      "source": [
        "### Your tasks-1:\n",
        "\n",
        "Run the function getMinEditDistance(source, target) on the following test cases:\n",
        "\n",
        "* \"kitten\" → \"sitting\"\n",
        "\n",
        "* \"flaw\" → \"lawn\"\n",
        "\n",
        "* \"intention\" → \"execution\"\n",
        "\n",
        "Write down:\n",
        "\n",
        "* the edit distance,\n",
        "\n",
        "* the sequence of operations (Insertion I, Deletion D, Mismatch M),\n",
        "\n",
        "* and the final alignment printed."
      ]
    },
    {
      "cell_type": "code",
      "source": [
        "# fisrt tast\n",
        "\n",
        "getMinEditDistance(\"kitten\", \"sitting\")"
      ],
      "metadata": {
        "colab": {
          "base_uri": "https://localhost:8080/"
        },
        "id": "wX_JEyuIhTYa",
        "outputId": "82ea57a3-aadd-4bc8-f092-f6d2a9e873c5"
      },
      "execution_count": 60,
      "outputs": [
        {
          "output_type": "stream",
          "name": "stdout",
          "text": [
            "Source: kitten\n",
            "Target: sitting\n",
            "-----\n",
            "Distance:  5\n",
            "Aligment:\n",
            "kitten-\n",
            "M   M I\n",
            "sitting\n"
          ]
        }
      ]
    },
    {
      "cell_type": "code",
      "source": [
        "getMinEditDistance(\"flaw\", \"lawn\")"
      ],
      "metadata": {
        "colab": {
          "base_uri": "https://localhost:8080/"
        },
        "id": "RAidQcVjhYJ0",
        "outputId": "a47f5c6f-e8cc-4693-8710-6c121267a9b6"
      },
      "execution_count": 61,
      "outputs": [
        {
          "output_type": "stream",
          "name": "stdout",
          "text": [
            "Source: flaw\n",
            "Target: lawn\n",
            "-----\n",
            "Distance:  2\n",
            "Aligment:\n",
            "flaw-\n",
            "D   I\n",
            "-lawn\n"
          ]
        }
      ]
    },
    {
      "cell_type": "code",
      "source": [
        "getMinEditDistance(\"intention\", \"execution\")"
      ],
      "metadata": {
        "colab": {
          "base_uri": "https://localhost:8080/"
        },
        "id": "gMRZQGBwhbmX",
        "outputId": "fc63e411-bed8-469a-a9c1-82128e111067"
      },
      "execution_count": 62,
      "outputs": [
        {
          "output_type": "stream",
          "name": "stdout",
          "text": [
            "Source: intention\n",
            "Target: execution\n",
            "-----\n",
            "Distance:  8\n",
            "Aligment:\n",
            "inte---ntion\n",
            "DDD IIIM    \n",
            "---execution\n"
          ]
        }
      ]
    },
    {
      "cell_type": "markdown",
      "metadata": {
        "id": "N2iqJQQukiGO"
      },
      "source": [
        "### Your tasks-2:\n",
        "Extend the algorithm:\n",
        "Modify the function so that:\n",
        "\n",
        "Insertion = 1\n",
        "\n",
        "Deletion = 1\n",
        "\n",
        "Substitution = 1\n",
        "\n",
        "(Bonus) Transposition of two adjacent characters = 1\n",
        "\n",
        "Test your new algorithm on:\n",
        "\n",
        "\"abcd\" → \"acbd\""
      ]
    },
    {
      "cell_type": "code",
      "execution_count": 78,
      "metadata": {
        "id": "6zJ_388dkiGO"
      },
      "outputs": [],
      "source": [
        "def reverse(string):\n",
        "    return string[::-1]\n",
        "\n",
        "def function_task2(source, target):\n",
        "    rows, cols = len(source) + 1, len(target) + 1\n",
        "    matrix = [[0 for _ in range(cols)] for _ in range(rows)]\n",
        "\n",
        "    for i in range(rows):\n",
        "        matrix[i][0] = i\n",
        "    for j in range(cols):\n",
        "        matrix[0][j] = j\n",
        "\n",
        "    for i in range(1, rows):\n",
        "        for j in range(1, cols):\n",
        "            cost = 0 if source[i - 1] == target[j - 1] else 1\n",
        "            matrix[i][j] = min(\n",
        "                matrix[i - 1][j] + 1,       # deletion\n",
        "                matrix[i][j - 1] + 1,       # insertion\n",
        "                matrix[i - 1][j - 1] + cost # substitution\n",
        "            )\n",
        "\n",
        "            # Transposition\n",
        "            if i > 1 and j > 1 and source[i - 1] == target[j - 2] and source[i - 2] == target[j - 1]:\n",
        "                matrix[i][j] = min(matrix[i][j], matrix[i - 2][j - 2] + 1)\n",
        "\n",
        "    print(\"Source:\", source)\n",
        "    print(\"Target:\", target)\n",
        "    print(\"-----\")\n",
        "    print(\"Distance:\", matrix[len(source)][len(target)])\n",
        "    print(\"Aligment:\")\n",
        "\n",
        "    # Backtracing\n",
        "    t_alignment, s_alignment = \"\", \"\"\n",
        "    row, col = len(source), len(target)\n",
        "    operations = \"\"\n",
        "\n",
        "    while row > 0 or col > 0:\n",
        "        if row > 1 and col > 1 and matrix[row][col] == matrix[row - 2][col - 2] + 1 and \\\n",
        "           source[row - 1] == target[col - 2] and source[row - 2] == target[col - 1]:\n",
        "            operations += \"T\"\n",
        "            t_alignment += source[row - 2] + source[row - 1]\n",
        "            s_alignment += target[col - 2] + target[col - 1]\n",
        "            row -= 2\n",
        "            col -= 2\n",
        "        elif row > 0 and col > 0 and matrix[row][col] == matrix[row - 1][col - 1] + (source[row - 1] != target[col - 1]):\n",
        "            operations += \" \" if source[row - 1] == target[col - 1] else \"M\"\n",
        "            t_alignment += source[row - 1]\n",
        "            s_alignment += target[col - 1]\n",
        "            row -= 1\n",
        "            col -= 1\n",
        "        elif row > 0 and matrix[row][col] == matrix[row - 1][col] + 1:\n",
        "            operations += \"D\"\n",
        "            t_alignment += source[row - 1]\n",
        "            s_alignment += \"-\"\n",
        "            row -= 1\n",
        "        else:\n",
        "            operations += \"I\"\n",
        "            t_alignment += \"-\"\n",
        "            s_alignment += target[col - 1]\n",
        "            col -= 1\n",
        "\n",
        "    print(reverse(t_alignment))\n",
        "    print(reverse(operations))\n",
        "    print(reverse(s_alignment))\n"
      ]
    },
    {
      "cell_type": "code",
      "source": [
        "function_task2(\"abcd\", \"acdb\")"
      ],
      "metadata": {
        "colab": {
          "base_uri": "https://localhost:8080/"
        },
        "id": "ZbWRpzXMiWLo",
        "outputId": "cabfe6b1-18cc-4157-eec5-9029711085f3"
      },
      "execution_count": 79,
      "outputs": [
        {
          "output_type": "stream",
          "name": "stdout",
          "text": [
            "Source: abcd\n",
            "Target: acdb\n",
            "-----\n",
            "Distance: 2\n",
            "Aligment:\n",
            "abcd-\n",
            " D  I\n",
            "a-cdb\n"
          ]
        }
      ]
    },
    {
      "cell_type": "markdown",
      "source": [
        "1\n",
        "Сначала мы создаём матрицу, где строки соответствуют символам первой строки, а столбцы — второй. В первой строке и первом столбце записываем базовые значения от 0 до длины строки — это шаги для вставок и удалений.\n",
        "\n",
        "2\n",
        "Дальше с помощью двойного цикла сравниваем символы из source и target. Если они совпадают — ничего не делаем, если нет — выбираем минимальную из трёх операций: вставку, удаление или замену.\n",
        "\n",
        "3\n",
        "В конце, с помощью обратного прохода (backtracking), восстанавливаем путь, чтобы увидеть, какие именно изменения нужно сделать, и считаем минимальное количество шагов для превращения одной строки в другую.\n"
      ],
      "metadata": {
        "id": "2e_7Fk9_lWUX"
      }
    }
  ],
  "metadata": {
    "colab": {
      "provenance": []
    },
    "kernelspec": {
      "display_name": "Python 3 (ipykernel)",
      "language": "python",
      "name": "python3"
    },
    "language_info": {
      "codemirror_mode": {
        "name": "ipython",
        "version": 3
      },
      "file_extension": ".py",
      "mimetype": "text/x-python",
      "name": "python",
      "nbconvert_exporter": "python",
      "pygments_lexer": "ipython3",
      "version": "3.12.4"
    }
  },
  "nbformat": 4,
  "nbformat_minor": 0
}